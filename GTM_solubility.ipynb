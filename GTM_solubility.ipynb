{
 "cells": [
  {
   "cell_type": "markdown",
   "metadata": {},
   "source": [
    "<h3> Project: Benchmarking of GTM and other machine learning methods on prediction of aqueous solubility of organic compounds </h3>\n",
    "\n",
    "<h4>Summary</h4>\n",
    "A performance comparison of GTM and kGTM against several well-established machine learning methods is made, with the main goal being prediction of aqueous solubiity of organic compounds. A curated datasset of 9982 compounds was taken from kaggle (<a href=\"https://www.kaggle.com/sorkun/aqsoldb-a-curated-aqueous-solubility-dataset\" target=\"_blank\">https://www.kaggle.com/sorkun/aqsoldb-a-curated-aqueous-solubility-dataset</a>). The dataset was striped of salts and compounds with multiple occurences. The RDkit module was Chem was used to calculate 2D autocorrelation descriptors based on <u>topological properties</u> (to be checked). A set of two machine learning models was built for each method, one based on the descriptors provided in the original dataset, and another based on the autocorrelation descriptors.\n",
    "\n",
    "<h4>To do list</h4>\n",
    "<ul>\n",
    "    <li>prepare the training and test set using \"original\" descriptors</li>\n",
    "    <li>prepare the training and test set using RDkit AUTOCORR2D descriptors</li>\n",
    "    <li>build the GTM and kGTM machine learning models</li>\n",
    "    <li>build other machine learning models:</li>\n",
    "    <ul>\n",
    "        <li>elastic net regression</li>\n",
    "        <li>suppoort vector machine with rbf kernel</li>\n",
    "        <li>k-NN</li>\n",
    "        <li>random forest</li>\n",
    "        <li>naive bayes</li>\n",
    "    </ul>\n",
    "    <li style=\"color:red\">Use GridSearchCV to find the best parameters for each model!!!</li>\n",
    "</ul>\n",
    "\n"
   ]
  },
  {
   "cell_type": "markdown",
   "metadata": {},
   "source": [
    "### Step 1: Data Prepocessing"
   ]
  },
  {
   "cell_type": "code",
   "execution_count": 6,
   "metadata": {},
   "outputs": [],
   "source": [
    "# Some python imports\n",
    "import numpy as np\n",
    "import pandas as pd\n",
    "import matplotlib.pyplot as plt\n",
    "%matplotlib inline"
   ]
  },
  {
   "cell_type": "code",
   "execution_count": 7,
   "metadata": {},
   "outputs": [],
   "source": [
    "# Importing the dataset\n",
    "data = pd.read_csv(\"solubility.csv\")"
   ]
  },
  {
   "cell_type": "code",
   "execution_count": 8,
   "metadata": {},
   "outputs": [],
   "source": [
    "# Extracting all the descriptors\n",
    "\n",
    "# Original descriptors\n",
    "X1 = data[['MolWt', 'MolLogP',\n",
    "       'MolMR', 'HeavyAtomCount', 'NumHAcceptors', 'NumHDonors',\n",
    "       'NumHeteroatoms', 'NumRotatableBonds', 'NumValenceElectrons',\n",
    "       'NumAromaticRings', 'NumSaturatedRings', 'NumAliphaticRings',\n",
    "       'RingCount', 'TPSA', 'LabuteASA', 'BalabanJ', 'BertzCT']].copy()\n",
    "\n",
    "#Autocorrelation descriptors\n",
    "X2 = data[\"AutoCorrVector\"].copy()\n",
    "\n",
    "# Dependent property\n",
    "y1 = data[\"Solubility\"].copy()\n",
    "y2 = data[\"Solubility\"].copy()"
   ]
  },
  {
   "cell_type": "code",
   "execution_count": 9,
   "metadata": {},
   "outputs": [],
   "source": [
    "# Converting the autocorrelation descriptors into a machine-readable format\n",
    "\n",
    "def str2list(x):\n",
    "    return x.strip('][').split(', ')\n",
    "\n",
    "X2 = pd.DataFrame(X2)\n",
    "X2[\"AutoCorrList\"] = X2[\"AutoCorrVector\"].apply(str2list)\n",
    "X2.drop(\"AutoCorrVector\",axis=1,inplace=True)\n",
    "X2 = pd.DataFrame(data=np.array([i for i in X2[\"AutoCorrList\"]]))\n",
    "\n",
    "# Converting all the columns to float64 format\n",
    "for col in X2.columns:\n",
    "    X2[col]=X2[col].astype(float)"
   ]
  },
  {
   "cell_type": "code",
   "execution_count": 10,
   "metadata": {},
   "outputs": [],
   "source": [
    "# Some cells from AUTOCORR2D descriptor blocks (X2) have undefined values\n",
    "# we'll have to drop them\n",
    "# Dropping the NaN values in X2 block\n",
    "X2.dropna(axis=0,inplace=True)\n",
    "# Dropping the corresponding rows in the y ... 'Solubility' block\n",
    "listdrop = [i for i in y2.index if i not in X2.index]\n",
    "y1.drop(listdrop,axis=0,inplace=True)\n",
    "y2.drop(listdrop,axis=0,inplace=True)\n",
    "X1.drop(listdrop,axis=0,inplace=True)"
   ]
  },
  {
   "cell_type": "code",
   "execution_count": 18,
   "metadata": {},
   "outputs": [],
   "source": [
    "# Importing the sklearn preprocessing tools\n",
    "from sklearn.preprocessing import StandardScaler\n",
    "from sklearn.model_selection import train_test_split,GridSearchCV"
   ]
  },
  {
   "cell_type": "code",
   "execution_count": 12,
   "metadata": {},
   "outputs": [],
   "source": [
    "# Now the data is ready for machine learning!!!"
   ]
  },
  {
   "cell_type": "markdown",
   "metadata": {},
   "source": [
    "#### Model 1: ugtm eGTR (generative topogaphic mapping regressor)"
   ]
  },
  {
   "cell_type": "code",
   "execution_count": 13,
   "metadata": {},
   "outputs": [],
   "source": [
    "# X1 train-test-split\n",
    "X1_train, X1_test, y1_train, y1_test = train_test_split(X1, y1, test_size=0.2, random_state=42)\n",
    "X2_train, X2_test, y2_train, y2_test = train_test_split(X2, y2, test_size=0.2, random_state=42)"
   ]
  },
  {
   "cell_type": "code",
   "execution_count": 14,
   "metadata": {},
   "outputs": [],
   "source": [
    "# Normalizing the data\n",
    "S1 = StandardScaler()\n",
    "S2 = StandardScaler()\n",
    "X1_train = S1.fit_transform(X1_train)\n",
    "X1_test = S1.transform(X1_test)\n",
    "X2_train = S2.fit_transform(X2_train)\n",
    "X2_test = S2.transform(X2_test)"
   ]
  },
  {
   "cell_type": "code",
   "execution_count": 19,
   "metadata": {},
   "outputs": [],
   "source": [
    "# Predicting the Solubility using gtm\n",
    "from ugtm import eGTM,eGTR,runGTM,runkGTM"
   ]
  },
  {
   "cell_type": "code",
   "execution_count": 20,
   "metadata": {},
   "outputs": [],
   "source": [
    "# Defining some grid search parameters\n",
    "tuned_params = {'regul': [0.0001, 0.001, 0.01, 0.1, 1], # L2 regularization coefficient\n",
    "        's': [0.1, 0.2, 0.3], # Width of the RBF center\n",
    "        'k': [25], # sqrt of the number of GTM nodes\n",
    "        'm': [5]} # sqrt of the number of RBF centers"
   ]
  },
  {
   "cell_type": "code",
   "execution_count": 21,
   "metadata": {},
   "outputs": [],
   "source": [
    "gtr1 = GridSearchCV(estimator=eGTR(),param_grid=tuned_params,cv=3,scoring=\"neg_mean_squared_error\")\n",
    "gtr2 = GridSearchCV(estimator=eGTR(),param_grid=tuned_params,cv=3,scoring=\"neg_mean_squared_error\")"
   ]
  },
  {
   "cell_type": "code",
   "execution_count": 23,
   "metadata": {},
   "outputs": [
    {
     "data": {
      "text/plain": [
       "GridSearchCV(cv=3, error_score=nan,\n",
       "             estimator=eGTR(k=16, m=4, n_neighbors=2, niter=200,\n",
       "                            random_state=1234, regul=0.1,\n",
       "                            representation='modes', s=0.3, verbose=False),\n",
       "             iid='deprecated', n_jobs=None,\n",
       "             param_grid={'k': [25], 'm': [5],\n",
       "                         'regul': [0.0001, 0.001, 0.01, 0.1, 1],\n",
       "                         's': [0.1, 0.2, 0.3]},\n",
       "             pre_dispatch='2*n_jobs', refit=True, return_train_score=False,\n",
       "             scoring='neg_mean_squared_error', verbose=0)"
      ]
     },
     "execution_count": 23,
     "metadata": {},
     "output_type": "execute_result"
    }
   ],
   "source": [
    "gtr1.fit(X1_train,y1_train)"
   ]
  },
  {
   "cell_type": "code",
   "execution_count": 24,
   "metadata": {},
   "outputs": [
    {
     "name": "stdout",
     "output_type": "stream",
     "text": [
      "{'k': 25, 'm': 5, 'regul': 0.01, 's': 0.1}\n"
     ]
    }
   ],
   "source": [
    "print(gtr1.best_params_)"
   ]
  },
  {
   "cell_type": "code",
   "execution_count": 25,
   "metadata": {},
   "outputs": [
    {
     "ename": "KeyboardInterrupt",
     "evalue": "",
     "output_type": "error",
     "traceback": [
      "\u001b[0;31m---------------------------------------------------------------------------\u001b[0m",
      "\u001b[0;31mKeyboardInterrupt\u001b[0m                         Traceback (most recent call last)",
      "\u001b[0;32m<ipython-input-25-524f2dc9fe94>\u001b[0m in \u001b[0;36m<module>\u001b[0;34m\u001b[0m\n\u001b[0;32m----> 1\u001b[0;31m \u001b[0mgtr2\u001b[0m\u001b[0;34m.\u001b[0m\u001b[0mfit\u001b[0m\u001b[0;34m(\u001b[0m\u001b[0mX2_train\u001b[0m\u001b[0;34m,\u001b[0m\u001b[0my2_train\u001b[0m\u001b[0;34m)\u001b[0m\u001b[0;34m\u001b[0m\u001b[0;34m\u001b[0m\u001b[0m\n\u001b[0m",
      "\u001b[0;32m/Library/Frameworks/Python.framework/Versions/3.8/lib/python3.8/site-packages/sklearn/model_selection/_search.py\u001b[0m in \u001b[0;36mfit\u001b[0;34m(self, X, y, groups, **fit_params)\u001b[0m\n\u001b[1;32m    708\u001b[0m                 \u001b[0;32mreturn\u001b[0m \u001b[0mresults\u001b[0m\u001b[0;34m\u001b[0m\u001b[0;34m\u001b[0m\u001b[0m\n\u001b[1;32m    709\u001b[0m \u001b[0;34m\u001b[0m\u001b[0m\n\u001b[0;32m--> 710\u001b[0;31m             \u001b[0mself\u001b[0m\u001b[0;34m.\u001b[0m\u001b[0m_run_search\u001b[0m\u001b[0;34m(\u001b[0m\u001b[0mevaluate_candidates\u001b[0m\u001b[0;34m)\u001b[0m\u001b[0;34m\u001b[0m\u001b[0;34m\u001b[0m\u001b[0m\n\u001b[0m\u001b[1;32m    711\u001b[0m \u001b[0;34m\u001b[0m\u001b[0m\n\u001b[1;32m    712\u001b[0m         \u001b[0;31m# For multi-metric evaluation, store the best_index_, best_params_ and\u001b[0m\u001b[0;34m\u001b[0m\u001b[0;34m\u001b[0m\u001b[0;34m\u001b[0m\u001b[0m\n",
      "\u001b[0;32m/Library/Frameworks/Python.framework/Versions/3.8/lib/python3.8/site-packages/sklearn/model_selection/_search.py\u001b[0m in \u001b[0;36m_run_search\u001b[0;34m(self, evaluate_candidates)\u001b[0m\n\u001b[1;32m   1149\u001b[0m     \u001b[0;32mdef\u001b[0m \u001b[0m_run_search\u001b[0m\u001b[0;34m(\u001b[0m\u001b[0mself\u001b[0m\u001b[0;34m,\u001b[0m \u001b[0mevaluate_candidates\u001b[0m\u001b[0;34m)\u001b[0m\u001b[0;34m:\u001b[0m\u001b[0;34m\u001b[0m\u001b[0;34m\u001b[0m\u001b[0m\n\u001b[1;32m   1150\u001b[0m         \u001b[0;34m\"\"\"Search all candidates in param_grid\"\"\"\u001b[0m\u001b[0;34m\u001b[0m\u001b[0;34m\u001b[0m\u001b[0m\n\u001b[0;32m-> 1151\u001b[0;31m         \u001b[0mevaluate_candidates\u001b[0m\u001b[0;34m(\u001b[0m\u001b[0mParameterGrid\u001b[0m\u001b[0;34m(\u001b[0m\u001b[0mself\u001b[0m\u001b[0;34m.\u001b[0m\u001b[0mparam_grid\u001b[0m\u001b[0;34m)\u001b[0m\u001b[0;34m)\u001b[0m\u001b[0;34m\u001b[0m\u001b[0;34m\u001b[0m\u001b[0m\n\u001b[0m\u001b[1;32m   1152\u001b[0m \u001b[0;34m\u001b[0m\u001b[0m\n\u001b[1;32m   1153\u001b[0m \u001b[0;34m\u001b[0m\u001b[0m\n",
      "\u001b[0;32m/Library/Frameworks/Python.framework/Versions/3.8/lib/python3.8/site-packages/sklearn/model_selection/_search.py\u001b[0m in \u001b[0;36mevaluate_candidates\u001b[0;34m(candidate_params)\u001b[0m\n\u001b[1;32m    680\u001b[0m                               n_splits, n_candidates, n_candidates * n_splits))\n\u001b[1;32m    681\u001b[0m \u001b[0;34m\u001b[0m\u001b[0m\n\u001b[0;32m--> 682\u001b[0;31m                 out = parallel(delayed(_fit_and_score)(clone(base_estimator),\n\u001b[0m\u001b[1;32m    683\u001b[0m                                                        \u001b[0mX\u001b[0m\u001b[0;34m,\u001b[0m \u001b[0my\u001b[0m\u001b[0;34m,\u001b[0m\u001b[0;34m\u001b[0m\u001b[0;34m\u001b[0m\u001b[0m\n\u001b[1;32m    684\u001b[0m                                                        \u001b[0mtrain\u001b[0m\u001b[0;34m=\u001b[0m\u001b[0mtrain\u001b[0m\u001b[0;34m,\u001b[0m \u001b[0mtest\u001b[0m\u001b[0;34m=\u001b[0m\u001b[0mtest\u001b[0m\u001b[0;34m,\u001b[0m\u001b[0;34m\u001b[0m\u001b[0;34m\u001b[0m\u001b[0m\n",
      "\u001b[0;32m/Library/Frameworks/Python.framework/Versions/3.8/lib/python3.8/site-packages/joblib/parallel.py\u001b[0m in \u001b[0;36m__call__\u001b[0;34m(self, iterable)\u001b[0m\n\u001b[1;32m   1005\u001b[0m                 \u001b[0mself\u001b[0m\u001b[0;34m.\u001b[0m\u001b[0m_iterating\u001b[0m \u001b[0;34m=\u001b[0m \u001b[0mself\u001b[0m\u001b[0;34m.\u001b[0m\u001b[0m_original_iterator\u001b[0m \u001b[0;32mis\u001b[0m \u001b[0;32mnot\u001b[0m \u001b[0;32mNone\u001b[0m\u001b[0;34m\u001b[0m\u001b[0;34m\u001b[0m\u001b[0m\n\u001b[1;32m   1006\u001b[0m \u001b[0;34m\u001b[0m\u001b[0m\n\u001b[0;32m-> 1007\u001b[0;31m             \u001b[0;32mwhile\u001b[0m \u001b[0mself\u001b[0m\u001b[0;34m.\u001b[0m\u001b[0mdispatch_one_batch\u001b[0m\u001b[0;34m(\u001b[0m\u001b[0miterator\u001b[0m\u001b[0;34m)\u001b[0m\u001b[0;34m:\u001b[0m\u001b[0;34m\u001b[0m\u001b[0;34m\u001b[0m\u001b[0m\n\u001b[0m\u001b[1;32m   1008\u001b[0m                 \u001b[0;32mpass\u001b[0m\u001b[0;34m\u001b[0m\u001b[0;34m\u001b[0m\u001b[0m\n\u001b[1;32m   1009\u001b[0m \u001b[0;34m\u001b[0m\u001b[0m\n",
      "\u001b[0;32m/Library/Frameworks/Python.framework/Versions/3.8/lib/python3.8/site-packages/joblib/parallel.py\u001b[0m in \u001b[0;36mdispatch_one_batch\u001b[0;34m(self, iterator)\u001b[0m\n\u001b[1;32m    833\u001b[0m                 \u001b[0;32mreturn\u001b[0m \u001b[0;32mFalse\u001b[0m\u001b[0;34m\u001b[0m\u001b[0;34m\u001b[0m\u001b[0m\n\u001b[1;32m    834\u001b[0m             \u001b[0;32melse\u001b[0m\u001b[0;34m:\u001b[0m\u001b[0;34m\u001b[0m\u001b[0;34m\u001b[0m\u001b[0m\n\u001b[0;32m--> 835\u001b[0;31m                 \u001b[0mself\u001b[0m\u001b[0;34m.\u001b[0m\u001b[0m_dispatch\u001b[0m\u001b[0;34m(\u001b[0m\u001b[0mtasks\u001b[0m\u001b[0;34m)\u001b[0m\u001b[0;34m\u001b[0m\u001b[0;34m\u001b[0m\u001b[0m\n\u001b[0m\u001b[1;32m    836\u001b[0m                 \u001b[0;32mreturn\u001b[0m \u001b[0;32mTrue\u001b[0m\u001b[0;34m\u001b[0m\u001b[0;34m\u001b[0m\u001b[0m\n\u001b[1;32m    837\u001b[0m \u001b[0;34m\u001b[0m\u001b[0m\n",
      "\u001b[0;32m/Library/Frameworks/Python.framework/Versions/3.8/lib/python3.8/site-packages/joblib/parallel.py\u001b[0m in \u001b[0;36m_dispatch\u001b[0;34m(self, batch)\u001b[0m\n\u001b[1;32m    752\u001b[0m         \u001b[0;32mwith\u001b[0m \u001b[0mself\u001b[0m\u001b[0;34m.\u001b[0m\u001b[0m_lock\u001b[0m\u001b[0;34m:\u001b[0m\u001b[0;34m\u001b[0m\u001b[0;34m\u001b[0m\u001b[0m\n\u001b[1;32m    753\u001b[0m             \u001b[0mjob_idx\u001b[0m \u001b[0;34m=\u001b[0m \u001b[0mlen\u001b[0m\u001b[0;34m(\u001b[0m\u001b[0mself\u001b[0m\u001b[0;34m.\u001b[0m\u001b[0m_jobs\u001b[0m\u001b[0;34m)\u001b[0m\u001b[0;34m\u001b[0m\u001b[0;34m\u001b[0m\u001b[0m\n\u001b[0;32m--> 754\u001b[0;31m             \u001b[0mjob\u001b[0m \u001b[0;34m=\u001b[0m \u001b[0mself\u001b[0m\u001b[0;34m.\u001b[0m\u001b[0m_backend\u001b[0m\u001b[0;34m.\u001b[0m\u001b[0mapply_async\u001b[0m\u001b[0;34m(\u001b[0m\u001b[0mbatch\u001b[0m\u001b[0;34m,\u001b[0m \u001b[0mcallback\u001b[0m\u001b[0;34m=\u001b[0m\u001b[0mcb\u001b[0m\u001b[0;34m)\u001b[0m\u001b[0;34m\u001b[0m\u001b[0;34m\u001b[0m\u001b[0m\n\u001b[0m\u001b[1;32m    755\u001b[0m             \u001b[0;31m# A job can complete so quickly than its callback is\u001b[0m\u001b[0;34m\u001b[0m\u001b[0;34m\u001b[0m\u001b[0;34m\u001b[0m\u001b[0m\n\u001b[1;32m    756\u001b[0m             \u001b[0;31m# called before we get here, causing self._jobs to\u001b[0m\u001b[0;34m\u001b[0m\u001b[0;34m\u001b[0m\u001b[0;34m\u001b[0m\u001b[0m\n",
      "\u001b[0;32m/Library/Frameworks/Python.framework/Versions/3.8/lib/python3.8/site-packages/joblib/_parallel_backends.py\u001b[0m in \u001b[0;36mapply_async\u001b[0;34m(self, func, callback)\u001b[0m\n\u001b[1;32m    207\u001b[0m     \u001b[0;32mdef\u001b[0m \u001b[0mapply_async\u001b[0m\u001b[0;34m(\u001b[0m\u001b[0mself\u001b[0m\u001b[0;34m,\u001b[0m \u001b[0mfunc\u001b[0m\u001b[0;34m,\u001b[0m \u001b[0mcallback\u001b[0m\u001b[0;34m=\u001b[0m\u001b[0;32mNone\u001b[0m\u001b[0;34m)\u001b[0m\u001b[0;34m:\u001b[0m\u001b[0;34m\u001b[0m\u001b[0;34m\u001b[0m\u001b[0m\n\u001b[1;32m    208\u001b[0m         \u001b[0;34m\"\"\"Schedule a func to be run\"\"\"\u001b[0m\u001b[0;34m\u001b[0m\u001b[0;34m\u001b[0m\u001b[0m\n\u001b[0;32m--> 209\u001b[0;31m         \u001b[0mresult\u001b[0m \u001b[0;34m=\u001b[0m \u001b[0mImmediateResult\u001b[0m\u001b[0;34m(\u001b[0m\u001b[0mfunc\u001b[0m\u001b[0;34m)\u001b[0m\u001b[0;34m\u001b[0m\u001b[0;34m\u001b[0m\u001b[0m\n\u001b[0m\u001b[1;32m    210\u001b[0m         \u001b[0;32mif\u001b[0m \u001b[0mcallback\u001b[0m\u001b[0;34m:\u001b[0m\u001b[0;34m\u001b[0m\u001b[0;34m\u001b[0m\u001b[0m\n\u001b[1;32m    211\u001b[0m             \u001b[0mcallback\u001b[0m\u001b[0;34m(\u001b[0m\u001b[0mresult\u001b[0m\u001b[0;34m)\u001b[0m\u001b[0;34m\u001b[0m\u001b[0;34m\u001b[0m\u001b[0m\n",
      "\u001b[0;32m/Library/Frameworks/Python.framework/Versions/3.8/lib/python3.8/site-packages/joblib/_parallel_backends.py\u001b[0m in \u001b[0;36m__init__\u001b[0;34m(self, batch)\u001b[0m\n\u001b[1;32m    588\u001b[0m         \u001b[0;31m# Don't delay the application, to avoid keeping the input\u001b[0m\u001b[0;34m\u001b[0m\u001b[0;34m\u001b[0m\u001b[0;34m\u001b[0m\u001b[0m\n\u001b[1;32m    589\u001b[0m         \u001b[0;31m# arguments in memory\u001b[0m\u001b[0;34m\u001b[0m\u001b[0;34m\u001b[0m\u001b[0;34m\u001b[0m\u001b[0m\n\u001b[0;32m--> 590\u001b[0;31m         \u001b[0mself\u001b[0m\u001b[0;34m.\u001b[0m\u001b[0mresults\u001b[0m \u001b[0;34m=\u001b[0m \u001b[0mbatch\u001b[0m\u001b[0;34m(\u001b[0m\u001b[0;34m)\u001b[0m\u001b[0;34m\u001b[0m\u001b[0;34m\u001b[0m\u001b[0m\n\u001b[0m\u001b[1;32m    591\u001b[0m \u001b[0;34m\u001b[0m\u001b[0m\n\u001b[1;32m    592\u001b[0m     \u001b[0;32mdef\u001b[0m \u001b[0mget\u001b[0m\u001b[0;34m(\u001b[0m\u001b[0mself\u001b[0m\u001b[0;34m)\u001b[0m\u001b[0;34m:\u001b[0m\u001b[0;34m\u001b[0m\u001b[0;34m\u001b[0m\u001b[0m\n",
      "\u001b[0;32m/Library/Frameworks/Python.framework/Versions/3.8/lib/python3.8/site-packages/joblib/parallel.py\u001b[0m in \u001b[0;36m__call__\u001b[0;34m(self)\u001b[0m\n\u001b[1;32m    253\u001b[0m         \u001b[0;31m# change the default number of processes to -1\u001b[0m\u001b[0;34m\u001b[0m\u001b[0;34m\u001b[0m\u001b[0;34m\u001b[0m\u001b[0m\n\u001b[1;32m    254\u001b[0m         \u001b[0;32mwith\u001b[0m \u001b[0mparallel_backend\u001b[0m\u001b[0;34m(\u001b[0m\u001b[0mself\u001b[0m\u001b[0;34m.\u001b[0m\u001b[0m_backend\u001b[0m\u001b[0;34m,\u001b[0m \u001b[0mn_jobs\u001b[0m\u001b[0;34m=\u001b[0m\u001b[0mself\u001b[0m\u001b[0;34m.\u001b[0m\u001b[0m_n_jobs\u001b[0m\u001b[0;34m)\u001b[0m\u001b[0;34m:\u001b[0m\u001b[0;34m\u001b[0m\u001b[0;34m\u001b[0m\u001b[0m\n\u001b[0;32m--> 255\u001b[0;31m             return [func(*args, **kwargs)\n\u001b[0m\u001b[1;32m    256\u001b[0m                     for func, args, kwargs in self.items]\n\u001b[1;32m    257\u001b[0m \u001b[0;34m\u001b[0m\u001b[0m\n",
      "\u001b[0;32m/Library/Frameworks/Python.framework/Versions/3.8/lib/python3.8/site-packages/joblib/parallel.py\u001b[0m in \u001b[0;36m<listcomp>\u001b[0;34m(.0)\u001b[0m\n\u001b[1;32m    253\u001b[0m         \u001b[0;31m# change the default number of processes to -1\u001b[0m\u001b[0;34m\u001b[0m\u001b[0;34m\u001b[0m\u001b[0;34m\u001b[0m\u001b[0m\n\u001b[1;32m    254\u001b[0m         \u001b[0;32mwith\u001b[0m \u001b[0mparallel_backend\u001b[0m\u001b[0;34m(\u001b[0m\u001b[0mself\u001b[0m\u001b[0;34m.\u001b[0m\u001b[0m_backend\u001b[0m\u001b[0;34m,\u001b[0m \u001b[0mn_jobs\u001b[0m\u001b[0;34m=\u001b[0m\u001b[0mself\u001b[0m\u001b[0;34m.\u001b[0m\u001b[0m_n_jobs\u001b[0m\u001b[0;34m)\u001b[0m\u001b[0;34m:\u001b[0m\u001b[0;34m\u001b[0m\u001b[0;34m\u001b[0m\u001b[0m\n\u001b[0;32m--> 255\u001b[0;31m             return [func(*args, **kwargs)\n\u001b[0m\u001b[1;32m    256\u001b[0m                     for func, args, kwargs in self.items]\n\u001b[1;32m    257\u001b[0m \u001b[0;34m\u001b[0m\u001b[0m\n",
      "\u001b[0;32m/Library/Frameworks/Python.framework/Versions/3.8/lib/python3.8/site-packages/sklearn/model_selection/_validation.py\u001b[0m in \u001b[0;36m_fit_and_score\u001b[0;34m(estimator, X, y, scorer, train, test, verbose, parameters, fit_params, return_train_score, return_parameters, return_n_test_samples, return_times, return_estimator, error_score)\u001b[0m\n\u001b[1;32m    513\u001b[0m             \u001b[0mestimator\u001b[0m\u001b[0;34m.\u001b[0m\u001b[0mfit\u001b[0m\u001b[0;34m(\u001b[0m\u001b[0mX_train\u001b[0m\u001b[0;34m,\u001b[0m \u001b[0;34m**\u001b[0m\u001b[0mfit_params\u001b[0m\u001b[0;34m)\u001b[0m\u001b[0;34m\u001b[0m\u001b[0;34m\u001b[0m\u001b[0m\n\u001b[1;32m    514\u001b[0m         \u001b[0;32melse\u001b[0m\u001b[0;34m:\u001b[0m\u001b[0;34m\u001b[0m\u001b[0;34m\u001b[0m\u001b[0m\n\u001b[0;32m--> 515\u001b[0;31m             \u001b[0mestimator\u001b[0m\u001b[0;34m.\u001b[0m\u001b[0mfit\u001b[0m\u001b[0;34m(\u001b[0m\u001b[0mX_train\u001b[0m\u001b[0;34m,\u001b[0m \u001b[0my_train\u001b[0m\u001b[0;34m,\u001b[0m \u001b[0;34m**\u001b[0m\u001b[0mfit_params\u001b[0m\u001b[0;34m)\u001b[0m\u001b[0;34m\u001b[0m\u001b[0;34m\u001b[0m\u001b[0m\n\u001b[0m\u001b[1;32m    516\u001b[0m \u001b[0;34m\u001b[0m\u001b[0m\n\u001b[1;32m    517\u001b[0m     \u001b[0;32mexcept\u001b[0m \u001b[0mException\u001b[0m \u001b[0;32mas\u001b[0m \u001b[0me\u001b[0m\u001b[0;34m:\u001b[0m\u001b[0;34m\u001b[0m\u001b[0;34m\u001b[0m\u001b[0m\n",
      "\u001b[0;32m/Library/Frameworks/Python.framework/Versions/3.8/lib/python3.8/site-packages/ugtm/ugtm_sklearn.py\u001b[0m in \u001b[0;36mfit\u001b[0;34m(self, X, y)\u001b[0m\n\u001b[1;32m    440\u001b[0m                                                 \u001b[0mself\u001b[0m\u001b[0;34m.\u001b[0m\u001b[0mm\u001b[0m\u001b[0;34m,\u001b[0m \u001b[0mself\u001b[0m\u001b[0;34m.\u001b[0m\u001b[0ms\u001b[0m\u001b[0;34m,\u001b[0m\u001b[0;34m\u001b[0m\u001b[0;34m\u001b[0m\u001b[0m\n\u001b[1;32m    441\u001b[0m                                                 self.random_state)\n\u001b[0;32m--> 442\u001b[0;31m         self.optimizedModel = ugtm_gtm.optimize(X, self.initialModel,\n\u001b[0m\u001b[1;32m    443\u001b[0m                                                 \u001b[0mself\u001b[0m\u001b[0;34m.\u001b[0m\u001b[0mregul\u001b[0m\u001b[0;34m,\u001b[0m\u001b[0;34m\u001b[0m\u001b[0;34m\u001b[0m\u001b[0m\n\u001b[1;32m    444\u001b[0m                                                 \u001b[0mself\u001b[0m\u001b[0;34m.\u001b[0m\u001b[0mniter\u001b[0m\u001b[0;34m,\u001b[0m\u001b[0;34m\u001b[0m\u001b[0;34m\u001b[0m\u001b[0m\n",
      "\u001b[0;32m/Library/Frameworks/Python.framework/Versions/3.8/lib/python3.8/site-packages/ugtm/ugtm_gtm.py\u001b[0m in \u001b[0;36moptimize\u001b[0;34m(data, initialModel, regul, niter, verbose)\u001b[0m\n\u001b[1;32m    168\u001b[0m     \u001b[0;32mwhile\u001b[0m \u001b[0mi\u001b[0m \u001b[0;34m<\u001b[0m \u001b[0;34m(\u001b[0m\u001b[0mniter\u001b[0m\u001b[0;34m+\u001b[0m\u001b[0;36m1\u001b[0m\u001b[0;34m)\u001b[0m \u001b[0;32mand\u001b[0m \u001b[0;34m(\u001b[0m\u001b[0mconverged\u001b[0m \u001b[0;34m<\u001b[0m \u001b[0;36m4\u001b[0m\u001b[0;34m)\u001b[0m\u001b[0;34m:\u001b[0m\u001b[0;34m\u001b[0m\u001b[0;34m\u001b[0m\u001b[0m\n\u001b[1;32m    169\u001b[0m         \u001b[0;31m# expectation\u001b[0m\u001b[0;34m\u001b[0m\u001b[0;34m\u001b[0m\u001b[0;34m\u001b[0m\u001b[0m\n\u001b[0;32m--> 170\u001b[0;31m         matP = ugtm_core.createPMatrix(matD, betaInv,\n\u001b[0m\u001b[1;32m    171\u001b[0m                                        initialModel.n_dimensions)\n\u001b[1;32m    172\u001b[0m         \u001b[0mmatR\u001b[0m \u001b[0;34m=\u001b[0m \u001b[0mugtm_core\u001b[0m\u001b[0;34m.\u001b[0m\u001b[0mcreateRMatrix\u001b[0m\u001b[0;34m(\u001b[0m\u001b[0mmatP\u001b[0m\u001b[0;34m)\u001b[0m\u001b[0;34m\u001b[0m\u001b[0;34m\u001b[0m\u001b[0m\n",
      "\u001b[0;32m/Library/Frameworks/Python.framework/Versions/3.8/lib/python3.8/site-packages/ugtm/ugtm_core.py\u001b[0m in \u001b[0;36mcreatePMatrix\u001b[0;34m(matD, betaInv, n_dimensions)\u001b[0m\n\u001b[1;32m    264\u001b[0m     \u001b[0mbeta\u001b[0m \u001b[0;34m=\u001b[0m \u001b[0;36m1\u001b[0m\u001b[0;34m/\u001b[0m\u001b[0mbetaInv\u001b[0m\u001b[0;34m\u001b[0m\u001b[0;34m\u001b[0m\u001b[0m\n\u001b[1;32m    265\u001b[0m     \u001b[0;31m# exp_normalize computes exp(x-max(x)) to avoid overflow for createRMatrix\u001b[0m\u001b[0;34m\u001b[0m\u001b[0;34m\u001b[0m\u001b[0;34m\u001b[0m\u001b[0m\n\u001b[0;32m--> 266\u001b[0;31m     \u001b[0mmatP\u001b[0m \u001b[0;34m=\u001b[0m \u001b[0mexp_normalize\u001b[0m\u001b[0;34m(\u001b[0m\u001b[0;34m-\u001b[0m\u001b[0;34m(\u001b[0m\u001b[0mbeta\u001b[0m\u001b[0;34m/\u001b[0m\u001b[0;36m2\u001b[0m\u001b[0;34m)\u001b[0m\u001b[0;34m*\u001b[0m\u001b[0mmatD\u001b[0m\u001b[0;34m)\u001b[0m\u001b[0;34m\u001b[0m\u001b[0;34m\u001b[0m\u001b[0m\n\u001b[0m\u001b[1;32m    267\u001b[0m     \u001b[0;32mreturn\u001b[0m\u001b[0;34m(\u001b[0m\u001b[0mmatP\u001b[0m\u001b[0;34m)\u001b[0m\u001b[0;34m\u001b[0m\u001b[0;34m\u001b[0m\u001b[0m\n\u001b[1;32m    268\u001b[0m \u001b[0;34m\u001b[0m\u001b[0m\n",
      "\u001b[0;31mKeyboardInterrupt\u001b[0m: "
     ]
    }
   ],
   "source": [
    "gtr2.fit(X2_train,y2_train)"
   ]
  },
  {
   "cell_type": "code",
   "execution_count": 38,
   "metadata": {},
   "outputs": [],
   "source": [
    "# Predicting the labels\n",
    "y2_pred = gtr2.predict(X2_test)"
   ]
  },
  {
   "cell_type": "code",
   "execution_count": 41,
   "metadata": {},
   "outputs": [
    {
     "data": {
      "text/plain": [
       "<matplotlib.collections.PathCollection at 0x121b577c0>"
      ]
     },
     "execution_count": 41,
     "metadata": {},
     "output_type": "execute_result"
    },
    {
     "data": {
      "image/png": "[encoded data removed]",
      "text/plain": [
       "<Figure size 432x288 with 1 Axes>"
      ]
     },
     "metadata": {
      "needs_background": "light"
     },
     "output_type": "display_data"
    }
   ],
   "source": [
    "plt.title(\"GTM regression prediction\")\n",
    "plt.xlabel(\"y_test\")\n",
    "plt.ylabel(\"y_pred\")\n",
    "plt.scatter(y2_test,y2_pred)"
   ]
  },
  {
   "cell_type": "code",
   "execution_count": 44,
   "metadata": {},
   "outputs": [],
   "source": [
    "gtm = runGTM(X1)"
   ]
  },
  {
   "cell_type": "code",
   "execution_count": 45,
   "metadata": {},
   "outputs": [],
   "source": [
    "from ugtm import plot_html"
   ]
  },
  {
   "cell_type": "code",
   "execution_count": null,
   "metadata": {},
   "outputs": [],
   "source": [
    "gtm.plot_html()"
   ]
  },
  {
   "cell_type": "code",
   "execution_count": 42,
   "metadata": {},
   "outputs": [],
   "source": [
    "from sklearn.metrics import r2_score"
   ]
  },
  {
   "cell_type": "code",
   "execution_count": 43,
   "metadata": {},
   "outputs": [
    {
     "name": "stdout",
     "output_type": "stream",
     "text": [
      "0.3967754741780041\n"
     ]
    }
   ],
   "source": [
    "# Goodness of prediction\n",
    "uGTMr2 = r2_score(y2_test,y2_pred)\n",
    "print(uGTMr2)"
   ]
  },
  {
   "cell_type": "code",
   "execution_count": 17,
   "metadata": {},
   "outputs": [
    {
     "name": "stdout",
     "output_type": "stream",
     "text": [
      "0.6473408736032291\n"
     ]
    }
   ],
   "source": [
    "# Goodness of fit\n",
    "y_train_pred = gtr.predict(X_train)\n",
    "print(r2_score(y_train,y_train_pred))"
   ]
  },
  {
   "cell_type": "code",
   "execution_count": 52,
   "metadata": {},
   "outputs": [],
   "source": [
    "# Getting the GTM transform for the X_train and X_test"
   ]
  },
  {
   "cell_type": "code",
   "execution_count": 65,
   "metadata": {},
   "outputs": [],
   "source": [
    "egtm = eGTM()\n",
    "X_train_proj = egtm.fit(X_train)\n",
    "X_all_proj = egtm.transform(X)"
   ]
  },
  {
   "cell_type": "code",
   "execution_count": 72,
   "metadata": {},
   "outputs": [],
   "source": [
    "projected_data = pd.DataFrame(X_all_proj,columns=[\"X1\",\"X2\"])"
   ]
  },
  {
   "cell_type": "code",
   "execution_count": 92,
   "metadata": {},
   "outputs": [
    {
     "name": "stdout",
     "output_type": "stream",
     "text": [
      "OCC(O)C(O)C(O)CO\n",
      "D-erythro-pentitol\n",
      "0.6252744890999999\n"
     ]
    }
   ],
   "source": [
    "print(data.iloc[147][\"SMILES\"])\n",
    "print(data.iloc[147][\"Name\"])\n",
    "print(data.iloc[147][\"Solubility\"])"
   ]
  },
  {
   "cell_type": "code",
   "execution_count": 93,
   "metadata": {},
   "outputs": [
    {
     "name": "stdout",
     "output_type": "stream",
     "text": [
      "OC(=O)c1ccccc1C2OC(=O)c3ccccc23\n",
      "benzoic acid, o-phthalidyl-\n",
      "-3.1042\n"
     ]
    }
   ],
   "source": [
    "print(data.iloc[4035][\"SMILES\"])\n",
    "print(data.iloc[4035][\"Name\"])\n",
    "print(data.iloc[4035][\"Solubility\"])"
   ]
  },
  {
   "cell_type": "code",
   "execution_count": 19,
   "metadata": {},
   "outputs": [],
   "source": [
    "# GTM \"activity\" landscape"
   ]
  },
  {
   "cell_type": "code",
   "execution_count": 38,
   "metadata": {},
   "outputs": [],
   "source": [
    "grid = pd.DataFrame(gtr.optimizedModel.matX,columns=[\"X1\",\"X2\"])"
   ]
  },
  {
   "cell_type": "code",
   "execution_count": 39,
   "metadata": {},
   "outputs": [],
   "source": [
    "grid[\"logS\"] = gtr.node_label "
   ]
  },
  {
   "cell_type": "code",
   "execution_count": 51,
   "metadata": {},
   "outputs": [
    {
     "data": {
      "application/vnd.plotly.v1+json": {
       "config": {
        "plotlyServerURL": "https://plotly.com"
       },
       "data": [
        {
         "colorbar": {
          "title": {
           "text": "logS"
          }
         },
         "colorscale": [
          [
           0,
           "rgb(49,54,149)"
          ],
          [
           0.1,
           "rgb(69,117,180)"
          ],
          [
           0.2,
           "rgb(116,173,209)"
          ],
          [
           0.3,
           "rgb(171,217,233)"
          ],
          [
           0.4,
           "rgb(224,243,248)"
          ],
          [
           0.5,
           "rgb(255,255,191)"
          ],
          [
           0.6,
           "rgb(254,224,144)"
          ],
          [
           0.7,
           "rgb(253,174,97)"
          ],
          [
           0.8,
           "rgb(244,109,67)"
          ],
          [
           0.9,
           "rgb(215,48,39)"
          ],
          [
           1,
           "rgb(165,0,38)"
          ]
         ],
         "type": "heatmap",
         "x": [
          -1,
          -1,
          -1,
          -1,
          -1,
          -1,
          -1,
          -1,
          -1,
          -1,
          -1,
          -1,
          -1,
          -1,
          -1,
          -1,
          -0.8666666666666667,
          -0.8666666666666667,
          -0.8666666666666667,
          -0.8666666666666667,
          -0.8666666666666667,
          -0.8666666666666667,
          -0.8666666666666667,
          -0.8666666666666667,
          -0.8666666666666667,
          -0.8666666666666667,
          -0.8666666666666667,
          -0.8666666666666667,
          -0.8666666666666667,
          -0.8666666666666667,
          -0.8666666666666667,
          -0.8666666666666667,
          -0.7333333333333334,
          -0.7333333333333334,
          -0.7333333333333334,
          -0.7333333333333334,
          -0.7333333333333334,
          -0.7333333333333334,
          -0.7333333333333334,
          -0.7333333333333334,
          -0.7333333333333334,
          -0.7333333333333334,
          -0.7333333333333334,
          -0.7333333333333334,
          -0.7333333333333334,
          -0.7333333333333334,
          -0.7333333333333334,
          -0.7333333333333334,
          -0.6,
          -0.6,
          -0.6,
          -0.6,
          -0.6,
          -0.6,
          -0.6,
          -0.6,
          -0.6,
          -0.6,
          -0.6,
          -0.6,
          -0.6,
          -0.6,
          -0.6,
          -0.6,
          -0.4666666666666667,
          -0.4666666666666667,
          -0.4666666666666667,
          -0.4666666666666667,
          -0.4666666666666667,
          -0.4666666666666667,
          -0.4666666666666667,
          -0.4666666666666667,
          -0.4666666666666667,
          -0.4666666666666667,
          -0.4666666666666667,
          -0.4666666666666667,
          -0.4666666666666667,
          -0.4666666666666667,
          -0.4666666666666667,
          -0.4666666666666667,
          -0.33333333333333337,
          -0.33333333333333337,
          -0.33333333333333337,
          -0.33333333333333337,
          -0.33333333333333337,
          -0.33333333333333337,
          -0.33333333333333337,
          -0.33333333333333337,
          -0.33333333333333337,
          -0.33333333333333337,
          -0.33333333333333337,
          -0.33333333333333337,
          -0.33333333333333337,
          -0.33333333333333337,
          -0.33333333333333337,
          -0.33333333333333337,
          -0.19999999999999996,
          -0.19999999999999996,
          -0.19999999999999996,
          -0.19999999999999996,
          -0.19999999999999996,
          -0.19999999999999996,
          -0.19999999999999996,
          -0.19999999999999996,
          -0.19999999999999996,
          -0.19999999999999996,
          -0.19999999999999996,
          -0.19999999999999996,
          -0.19999999999999996,
          -0.19999999999999996,
          -0.19999999999999996,
          -0.19999999999999996,
          -0.06666666666666665,
          -0.06666666666666665,
          -0.06666666666666665,
          -0.06666666666666665,
          -0.06666666666666665,
          -0.06666666666666665,
          -0.06666666666666665,
          -0.06666666666666665,
          -0.06666666666666665,
          -0.06666666666666665,
          -0.06666666666666665,
          -0.06666666666666665,
          -0.06666666666666665,
          -0.06666666666666665,
          -0.06666666666666665,
          -0.06666666666666665,
          0.06666666666666665,
          0.06666666666666665,
          0.06666666666666665,
          0.06666666666666665,
          0.06666666666666665,
          0.06666666666666665,
          0.06666666666666665,
          0.06666666666666665,
          0.06666666666666665,
          0.06666666666666665,
          0.06666666666666665,
          0.06666666666666665,
          0.06666666666666665,
          0.06666666666666665,
          0.06666666666666665,
          0.06666666666666665,
          0.19999999999999996,
          0.19999999999999996,
          0.19999999999999996,
          0.19999999999999996,
          0.19999999999999996,
          0.19999999999999996,
          0.19999999999999996,
          0.19999999999999996,
          0.19999999999999996,
          0.19999999999999996,
          0.19999999999999996,
          0.19999999999999996,
          0.19999999999999996,
          0.19999999999999996,
          0.19999999999999996,
          0.19999999999999996,
          0.33333333333333326,
          0.33333333333333326,
          0.33333333333333326,
          0.33333333333333326,
          0.33333333333333326,
          0.33333333333333326,
          0.33333333333333326,
          0.33333333333333326,
          0.33333333333333326,
          0.33333333333333326,
          0.33333333333333326,
          0.33333333333333326,
          0.33333333333333326,
          0.33333333333333326,
          0.33333333333333326,
          0.33333333333333326,
          0.46666666666666656,
          0.46666666666666656,
          0.46666666666666656,
          0.46666666666666656,
          0.46666666666666656,
          0.46666666666666656,
          0.46666666666666656,
          0.46666666666666656,
          0.46666666666666656,
          0.46666666666666656,
          0.46666666666666656,
          0.46666666666666656,
          0.46666666666666656,
          0.46666666666666656,
          0.46666666666666656,
          0.46666666666666656,
          0.6000000000000001,
          0.6000000000000001,
          0.6000000000000001,
          0.6000000000000001,
          0.6000000000000001,
          0.6000000000000001,
          0.6000000000000001,
          0.6000000000000001,
          0.6000000000000001,
          0.6000000000000001,
          0.6000000000000001,
          0.6000000000000001,
          0.6000000000000001,
          0.6000000000000001,
          0.6000000000000001,
          0.6000000000000001,
          0.7333333333333334,
          0.7333333333333334,
          0.7333333333333334,
          0.7333333333333334,
          0.7333333333333334,
          0.7333333333333334,
          0.7333333333333334,
          0.7333333333333334,
          0.7333333333333334,
          0.7333333333333334,
          0.7333333333333334,
          0.7333333333333334,
          0.7333333333333334,
          0.7333333333333334,
          0.7333333333333334,
          0.7333333333333334,
          0.8666666666666667,
          0.8666666666666667,
          0.8666666666666667,
          0.8666666666666667,
          0.8666666666666667,
          0.8666666666666667,
          0.8666666666666667,
          0.8666666666666667,
          0.8666666666666667,
          0.8666666666666667,
          0.8666666666666667,
          0.8666666666666667,
          0.8666666666666667,
          0.8666666666666667,
          0.8666666666666667,
          0.8666666666666667,
          1,
          1,
          1,
          1,
          1,
          1,
          1,
          1,
          1,
          1,
          1,
          1,
          1,
          1,
          1,
          1
         ],
         "y": [
          -1,
          -0.8666666666666667,
          -0.7333333333333334,
          -0.6,
          -0.4666666666666667,
          -0.33333333333333337,
          -0.19999999999999996,
          -0.06666666666666665,
          0.06666666666666665,
          0.19999999999999996,
          0.33333333333333326,
          0.46666666666666656,
          0.6000000000000001,
          0.7333333333333334,
          0.8666666666666667,
          1,
          -1,
          -0.8666666666666667,
          -0.7333333333333334,
          -0.6,
          -0.4666666666666667,
          -0.33333333333333337,
          -0.19999999999999996,
          -0.06666666666666665,
          0.06666666666666665,
          0.19999999999999996,
          0.33333333333333326,
          0.46666666666666656,
          0.6000000000000001,
          0.7333333333333334,
          0.8666666666666667,
          1,
          -1,
          -0.8666666666666667,
          -0.7333333333333334,
          -0.6,
          -0.4666666666666667,
          -0.33333333333333337,
          -0.19999999999999996,
          -0.06666666666666665,
          0.06666666666666665,
          0.19999999999999996,
          0.33333333333333326,
          0.46666666666666656,
          0.6000000000000001,
          0.7333333333333334,
          0.8666666666666667,
          1,
          -1,
          -0.8666666666666667,
          -0.7333333333333334,
          -0.6,
          -0.4666666666666667,
          -0.33333333333333337,
          -0.19999999999999996,
          -0.06666666666666665,
          0.06666666666666665,
          0.19999999999999996,
          0.33333333333333326,
          0.46666666666666656,
          0.6000000000000001,
          0.7333333333333334,
          0.8666666666666667,
          1,
          -1,
          -0.8666666666666667,
          -0.7333333333333334,
          -0.6,
          -0.4666666666666667,
          -0.33333333333333337,
          -0.19999999999999996,
          -0.06666666666666665,
          0.06666666666666665,
          0.19999999999999996,
          0.33333333333333326,
          0.46666666666666656,
          0.6000000000000001,
          0.7333333333333334,
          0.8666666666666667,
          1,
          -1,
          -0.8666666666666667,
          -0.7333333333333334,
          -0.6,
          -0.4666666666666667,
          -0.33333333333333337,
          -0.19999999999999996,
          -0.06666666666666665,
          0.06666666666666665,
          0.19999999999999996,
          0.33333333333333326,
          0.46666666666666656,
          0.6000000000000001,
          0.7333333333333334,
          0.8666666666666667,
          1,
          -1,
          -0.8666666666666667,
          -0.7333333333333334,
          -0.6,
          -0.4666666666666667,
          -0.33333333333333337,
          -0.19999999999999996,
          -0.06666666666666665,
          0.06666666666666665,
          0.19999999999999996,
          0.33333333333333326,
          0.46666666666666656,
          0.6000000000000001,
          0.7333333333333334,
          0.8666666666666667,
          1,
          -1,
          -0.8666666666666667,
          -0.7333333333333334,
          -0.6,
          -0.4666666666666667,
          -0.33333333333333337,
          -0.19999999999999996,
          -0.06666666666666665,
          0.06666666666666665,
          0.19999999999999996,
          0.33333333333333326,
          0.46666666666666656,
          0.6000000000000001,
          0.7333333333333334,
          0.8666666666666667,
          1,
          -1,
          -0.8666666666666667,
          -0.7333333333333334,
          -0.6,
          -0.4666666666666667,
          -0.33333333333333337,
          -0.19999999999999996,
          -0.06666666666666665,
          0.06666666666666665,
          0.19999999999999996,
          0.33333333333333326,
          0.46666666666666656,
          0.6000000000000001,
          0.7333333333333334,
          0.8666666666666667,
          1,
          -1,
          -0.8666666666666667,
          -0.7333333333333334,
          -0.6,
          -0.4666666666666667,
          -0.33333333333333337,
          -0.19999999999999996,
          -0.06666666666666665,
          0.06666666666666665,
          0.19999999999999996,
          0.33333333333333326,
          0.46666666666666656,
          0.6000000000000001,
          0.7333333333333334,
          0.8666666666666667,
          1,
          -1,
          -0.8666666666666667,
          -0.7333333333333334,
          -0.6,
          -0.4666666666666667,
          -0.33333333333333337,
          -0.19999999999999996,
          -0.06666666666666665,
          0.06666666666666665,
          0.19999999999999996,
          0.33333333333333326,
          0.46666666666666656,
          0.6000000000000001,
          0.7333333333333334,
          0.8666666666666667,
          1,
          -1,
          -0.8666666666666667,
          -0.7333333333333334,
          -0.6,
          -0.4666666666666667,
          -0.33333333333333337,
          -0.19999999999999996,
          -0.06666666666666665,
          0.06666666666666665,
          0.19999999999999996,
          0.33333333333333326,
          0.46666666666666656,
          0.6000000000000001,
          0.7333333333333334,
          0.8666666666666667,
          1,
          -1,
          -0.8666666666666667,
          -0.7333333333333334,
          -0.6,
          -0.4666666666666667,
          -0.33333333333333337,
          -0.19999999999999996,
          -0.06666666666666665,
          0.06666666666666665,
          0.19999999999999996,
          0.33333333333333326,
          0.46666666666666656,
          0.6000000000000001,
          0.7333333333333334,
          0.8666666666666667,
          1,
          -1,
          -0.8666666666666667,
          -0.7333333333333334,
          -0.6,
          -0.4666666666666667,
          -0.33333333333333337,
          -0.19999999999999996,
          -0.06666666666666665,
          0.06666666666666665,
          0.19999999999999996,
          0.33333333333333326,
          0.46666666666666656,
          0.6000000000000001,
          0.7333333333333334,
          0.8666666666666667,
          1,
          -1,
          -0.8666666666666667,
          -0.7333333333333334,
          -0.6,
          -0.4666666666666667,
          -0.33333333333333337,
          -0.19999999999999996,
          -0.06666666666666665,
          0.06666666666666665,
          0.19999999999999996,
          0.33333333333333326,
          0.46666666666666656,
          0.6000000000000001,
          0.7333333333333334,
          0.8666666666666667,
          1,
          -1,
          -0.8666666666666667,
          -0.7333333333333334,
          -0.6,
          -0.4666666666666667,
          -0.33333333333333337,
          -0.19999999999999996,
          -0.06666666666666665,
          0.06666666666666665,
          0.19999999999999996,
          0.33333333333333326,
          0.46666666666666656,
          0.6000000000000001,
          0.7333333333333334,
          0.8666666666666667,
          1
         ],
         "z": [
          -6.845525863796369,
          -5.7350785029708025,
          -5.3828345224468785,
          -4.6505590124572365,
          -4.0735304577196665,
          -3.8919594698460824,
          -4.242837001057323,
          -5.209254165039358,
          -5.8704703749347695,
          -4.951259073214683,
          -4.24006094630602,
          -4.2091881998609155,
          -4.799626242892393,
          -5.24245920184544,
          -4.837392580701968,
          -3.833885406235863,
          -5.801953708295241,
          -4.260622865871587,
          -4.242606449096391,
          -3.0005477259805104,
          -2.0878267682317118,
          -2.2407347464296814,
          -2.5513220359629307,
          -2.9556514141507777,
          -3.115938815967725,
          -3.0527843033538566,
          -2.5924334738079082,
          -2.086164557032704,
          -1.7168688245281594,
          -1.7311319703420522,
          -4.747613664241368,
          -2.4149541310971943,
          -4.4171310115752584,
          -3.6244427702847695,
          -2.40069184847034,
          -1.290490497922306,
          -0.874854929845152,
          -0.9117577095294712,
          -1.5157240402724643,
          -1.9520248103691522,
          -1.9398245506094258,
          -1.0455859226502195,
          -0.5073619249527836,
          -0.0508702070317804,
          0.7490571037752614,
          1.079133412161258,
          -0.6419988584378716,
          -0.9873008426045278,
          -4.988977257630073,
          -2.7522609355852876,
          -1.631673421897768,
          -1.4542684259289576,
          -1.325634814246033,
          -1.3154083924151425,
          -1.5484456503381319,
          -1.6325976897148597,
          -1.3588963797459634,
          -0.6900400344668717,
          -0.3988410061691441,
          -0.13153721770631172,
          -0.5042482624103135,
          0.054171922256517444,
          0.4666787860649956,
          -0.9775556465130144,
          -2.2687723308401746,
          -3.0516633617350926,
          -1.2304886444405478,
          -1.8135436160660636,
          -1.7882600468906797,
          -2.004750030345326,
          -2.0837051678787812,
          -1.8017547105838834,
          -1.6215244181599868,
          -0.9526061196448125,
          -0.4708300585623674,
          -0.29275954930383896,
          -0.5842683762335735,
          -0.7461035652911452,
          -0.7130371966241971,
          -0.8420706558747774,
          -4.175182354392373,
          -4.973443338453355,
          -2.0181913549251,
          -2.339886230214707,
          -2.06555020531531,
          -2.5893518623975362,
          -2.6041508232280832,
          -2.1775105416436107,
          -1.7194443947941986,
          -0.9492800031303623,
          -0.6507421653354041,
          -0.31851634818342306,
          -0.48450113238270726,
          -0.6512408300722208,
          0.4502337377145631,
          -1.9093948526610658,
          -7.063492057032756,
          -3.1219628663762142,
          -5.294231736449983,
          -2.435869492305968,
          -2.5579716149158966,
          -3.2116542838055855,
          -3.1581232893682176,
          -2.737444380479114,
          -2.2980336342030667,
          -1.7040911005722956,
          -1.3677706106043002,
          -2.1846358736018234,
          -1.495450030981725,
          -1.1414822139871574,
          0.15146510329074903,
          -2.4948381548697562,
          -3.0126352367572773,
          -3.0126352367572773,
          -3.0126352367572773,
          -6.126833692074249,
          -3.6868983223525285,
          -3.8243143534097555,
          -3.7019681858087394,
          -3.5713635818938583,
          -2.7481723467546977,
          -2.6126012254111615,
          -2.5010560996297446,
          -1.9284361831657784,
          -1.6481035327492541,
          -1.3050565631221722,
          -1.705751959270814,
          -2.121798723471342,
          -3.0126352367572773,
          -3.0126352367572773,
          -3.0126352367572773,
          -3.0126352371622644,
          -5.991011001045136,
          -4.630522265703724,
          -4.989254767303369,
          -5.184445085845916,
          -4.840678621627426,
          -3.503959546004824,
          -3.154595320774089,
          -2.5617963339913556,
          -2.1263319351702323,
          -1.4210024131494519,
          -1.6157406875898812,
          -2.436841620921132,
          -3.0126352367572773,
          -3.0126352367572773,
          -3.0126352367572773,
          -3.0126352367572773,
          -7.7354394249991465,
          -6.035858999121999,
          -5.34316207637824,
          -6.1773517608498,
          -5.780938947109096,
          -4.706608390724269,
          -3.9664911087062147,
          -3.3409109767544964,
          -2.5453383551044184,
          -1.1141457279363038,
          -0.5674136967647447,
          -2.550971875649425,
          -3.0126352367572773,
          -3.0126352367572773,
          -3.0126352367572773,
          -3.50668773639835,
          -6.678225537415597,
          -8.141645493353892,
          -7.22417242215737,
          -5.789473407791464,
          -5.944118751895278,
          -5.20617018652919,
          -5.1172073966000475,
          -4.213379214199093,
          -3.453999229006267,
          -2.0054989785679895,
          -0.8779579575556309,
          -2.866378640539565,
          -7.468064122018502,
          -9.703630952009124,
          -7.693828948921293,
          -6.906620027845879,
          -7.816409592909484,
          -7.413534013116421,
          -5.130227455463272,
          -4.554751166824929,
          -5.2745986829931,
          -5.774590899934496,
          -4.9939970080871845,
          -4.392926316508516,
          -3.785735783110003,
          -3.779379508612283,
          -2.7197790864654596,
          -4.388389911297281,
          -5.344493990563276,
          -6.479676245600005,
          -3.0126352367572773,
          -6.574510003195049,
          -7.079603813660366,
          -6.421701340540274,
          -4.429466919771852,
          -3.783187876883977,
          -4.530181630825307,
          -4.9062140740234454,
          -6.609184058095429,
          -4.871733012572879,
          -4.327668236971955,
          -4.3238832388718675,
          -4.511795099664524,
          -5.331591550778486,
          -3.0126352367572773,
          -3.0126352367572773,
          -9.049205467422192,
          -3.0126352367604787,
          -7.870583186157221,
          -5.634692330895456,
          -3.263886777734277,
          -2.774213891067444,
          -2.5415852295331134,
          -4.224855575758326,
          -3.356826342446526,
          -4.72789784416342,
          -3.8337766271552955,
          -4.17498805597669,
          -3.0163587093922417,
          -4.019964774005318,
          -3.0126352367572773,
          -3.0126352367572773,
          -3.0126352367572773,
          -0.7953706901055309,
          -7.288190637394327,
          -6.935485552525721,
          -3.0179634970996467,
          -2.4403459050670935,
          -3.733945486084367,
          -3.3672479412486576,
          -0.6611385222583922,
          -3.0072504846017374,
          -6.328277854157824,
          -4.758008013468244,
          -3.632260693559885,
          -3.0124503972699883,
          -6.729747104895681,
          -3.0126352367572773,
          -3.0126352367572773,
          -0.5904639393718619,
          -4.935725147103998,
          -6.538952311900494,
          -2.9232990497964875,
          -3.920112653170093,
          -4.586771771233757,
          -3.261625091400534,
          -2.7978794913463814,
          -3.012635237708248,
          -3.0126352367571356,
          -1.104094963318025,
          -3.0126352367572773,
          -3.0126352367572773
         ]
        }
       ],
       "layout": {
        "height": 600,
        "template": {
         "data": {
          "bar": [
           {
            "error_x": {
             "color": "#2a3f5f"
            },
            "error_y": {
             "color": "#2a3f5f"
            },
            "marker": {
             "line": {
              "color": "#E5ECF6",
              "width": 0.5
             }
            },
            "type": "bar"
           }
          ],
          "barpolar": [
           {
            "marker": {
             "line": {
              "color": "#E5ECF6",
              "width": 0.5
             }
            },
            "type": "barpolar"
           }
          ],
          "carpet": [
           {
            "aaxis": {
             "endlinecolor": "#2a3f5f",
             "gridcolor": "white",
             "linecolor": "white",
             "minorgridcolor": "white",
             "startlinecolor": "#2a3f5f"
            },
            "baxis": {
             "endlinecolor": "#2a3f5f",
             "gridcolor": "white",
             "linecolor": "white",
             "minorgridcolor": "white",
             "startlinecolor": "#2a3f5f"
            },
            "type": "carpet"
           }
          ],
          "choropleth": [
           {
            "colorbar": {
             "outlinewidth": 0,
             "ticks": ""
            },
            "type": "choropleth"
           }
          ],
          "contour": [
           {
            "colorbar": {
             "outlinewidth": 0,
             "ticks": ""
            },
            "colorscale": [
             [
              0,
              "#0d0887"
             ],
             [
              0.1111111111111111,
              "#46039f"
             ],
             [
              0.2222222222222222,
              "#7201a8"
             ],
             [
              0.3333333333333333,
              "#9c179e"
             ],
             [
              0.4444444444444444,
              "#bd3786"
             ],
             [
              0.5555555555555556,
              "#d8576b"
             ],
             [
              0.6666666666666666,
              "#ed7953"
             ],
             [
              0.7777777777777778,
              "#fb9f3a"
             ],
             [
              0.8888888888888888,
              "#fdca26"
             ],
             [
              1,
              "#f0f921"
             ]
            ],
            "type": "contour"
           }
          ],
          "contourcarpet": [
           {
            "colorbar": {
             "outlinewidth": 0,
             "ticks": ""
            },
            "type": "contourcarpet"
           }
          ],
          "heatmap": [
           {
            "colorbar": {
             "outlinewidth": 0,
             "ticks": ""
            },
            "colorscale": [
             [
              0,
              "#0d0887"
             ],
             [
              0.1111111111111111,
              "#46039f"
             ],
             [
              0.2222222222222222,
              "#7201a8"
             ],
             [
              0.3333333333333333,
              "#9c179e"
             ],
             [
              0.4444444444444444,
              "#bd3786"
             ],
             [
              0.5555555555555556,
              "#d8576b"
             ],
             [
              0.6666666666666666,
              "#ed7953"
             ],
             [
              0.7777777777777778,
              "#fb9f3a"
             ],
             [
              0.8888888888888888,
              "#fdca26"
             ],
             [
              1,
              "#f0f921"
             ]
            ],
            "type": "heatmap"
           }
          ],
          "heatmapgl": [
           {
            "colorbar": {
             "outlinewidth": 0,
             "ticks": ""
            },
            "colorscale": [
             [
              0,
              "#0d0887"
             ],
             [
              0.1111111111111111,
              "#46039f"
             ],
             [
              0.2222222222222222,
              "#7201a8"
             ],
             [
              0.3333333333333333,
              "#9c179e"
             ],
             [
              0.4444444444444444,
              "#bd3786"
             ],
             [
              0.5555555555555556,
              "#d8576b"
             ],
             [
              0.6666666666666666,
              "#ed7953"
             ],
             [
              0.7777777777777778,
              "#fb9f3a"
             ],
             [
              0.8888888888888888,
              "#fdca26"
             ],
             [
              1,
              "#f0f921"
             ]
            ],
            "type": "heatmapgl"
           }
          ],
          "histogram": [
           {
            "marker": {
             "colorbar": {
              "outlinewidth": 0,
              "ticks": ""
             }
            },
            "type": "histogram"
           }
          ],
          "histogram2d": [
           {
            "colorbar": {
             "outlinewidth": 0,
             "ticks": ""
            },
            "colorscale": [
             [
              0,
              "#0d0887"
             ],
             [
              0.1111111111111111,
              "#46039f"
             ],
             [
              0.2222222222222222,
              "#7201a8"
             ],
             [
              0.3333333333333333,
              "#9c179e"
             ],
             [
              0.4444444444444444,
              "#bd3786"
             ],
             [
              0.5555555555555556,
              "#d8576b"
             ],
             [
              0.6666666666666666,
              "#ed7953"
             ],
             [
              0.7777777777777778,
              "#fb9f3a"
             ],
             [
              0.8888888888888888,
              "#fdca26"
             ],
             [
              1,
              "#f0f921"
             ]
            ],
            "type": "histogram2d"
           }
          ],
          "histogram2dcontour": [
           {
            "colorbar": {
             "outlinewidth": 0,
             "ticks": ""
            },
            "colorscale": [
             [
              0,
              "#0d0887"
             ],
             [
              0.1111111111111111,
              "#46039f"
             ],
             [
              0.2222222222222222,
              "#7201a8"
             ],
             [
              0.3333333333333333,
              "#9c179e"
             ],
             [
              0.4444444444444444,
              "#bd3786"
             ],
             [
              0.5555555555555556,
              "#d8576b"
             ],
             [
              0.6666666666666666,
              "#ed7953"
             ],
             [
              0.7777777777777778,
              "#fb9f3a"
             ],
             [
              0.8888888888888888,
              "#fdca26"
             ],
             [
              1,
              "#f0f921"
             ]
            ],
            "type": "histogram2dcontour"
           }
          ],
          "mesh3d": [
           {
            "colorbar": {
             "outlinewidth": 0,
             "ticks": ""
            },
            "type": "mesh3d"
           }
          ],
          "parcoords": [
           {
            "line": {
             "colorbar": {
              "outlinewidth": 0,
              "ticks": ""
             }
            },
            "type": "parcoords"
           }
          ],
          "pie": [
           {
            "automargin": true,
            "type": "pie"
           }
          ],
          "scatter": [
           {
            "marker": {
             "colorbar": {
              "outlinewidth": 0,
              "ticks": ""
             }
            },
            "type": "scatter"
           }
          ],
          "scatter3d": [
           {
            "line": {
             "colorbar": {
              "outlinewidth": 0,
              "ticks": ""
             }
            },
            "marker": {
             "colorbar": {
              "outlinewidth": 0,
              "ticks": ""
             }
            },
            "type": "scatter3d"
           }
          ],
          "scattercarpet": [
           {
            "marker": {
             "colorbar": {
              "outlinewidth": 0,
              "ticks": ""
             }
            },
            "type": "scattercarpet"
           }
          ],
          "scattergeo": [
           {
            "marker": {
             "colorbar": {
              "outlinewidth": 0,
              "ticks": ""
             }
            },
            "type": "scattergeo"
           }
          ],
          "scattergl": [
           {
            "marker": {
             "colorbar": {
              "outlinewidth": 0,
              "ticks": ""
             }
            },
            "type": "scattergl"
           }
          ],
          "scattermapbox": [
           {
            "marker": {
             "colorbar": {
              "outlinewidth": 0,
              "ticks": ""
             }
            },
            "type": "scattermapbox"
           }
          ],
          "scatterpolar": [
           {
            "marker": {
             "colorbar": {
              "outlinewidth": 0,
              "ticks": ""
             }
            },
            "type": "scatterpolar"
           }
          ],
          "scatterpolargl": [
           {
            "marker": {
             "colorbar": {
              "outlinewidth": 0,
              "ticks": ""
             }
            },
            "type": "scatterpolargl"
           }
          ],
          "scatterternary": [
           {
            "marker": {
             "colorbar": {
              "outlinewidth": 0,
              "ticks": ""
             }
            },
            "type": "scatterternary"
           }
          ],
          "surface": [
           {
            "colorbar": {
             "outlinewidth": 0,
             "ticks": ""
            },
            "colorscale": [
             [
              0,
              "#0d0887"
             ],
             [
              0.1111111111111111,
              "#46039f"
             ],
             [
              0.2222222222222222,
              "#7201a8"
             ],
             [
              0.3333333333333333,
              "#9c179e"
             ],
             [
              0.4444444444444444,
              "#bd3786"
             ],
             [
              0.5555555555555556,
              "#d8576b"
             ],
             [
              0.6666666666666666,
              "#ed7953"
             ],
             [
              0.7777777777777778,
              "#fb9f3a"
             ],
             [
              0.8888888888888888,
              "#fdca26"
             ],
             [
              1,
              "#f0f921"
             ]
            ],
            "type": "surface"
           }
          ],
          "table": [
           {
            "cells": {
             "fill": {
              "color": "#EBF0F8"
             },
             "line": {
              "color": "white"
             }
            },
            "header": {
             "fill": {
              "color": "#C8D4E3"
             },
             "line": {
              "color": "white"
             }
            },
            "type": "table"
           }
          ]
         },
         "layout": {
          "annotationdefaults": {
           "arrowcolor": "#2a3f5f",
           "arrowhead": 0,
           "arrowwidth": 1
          },
          "coloraxis": {
           "colorbar": {
            "outlinewidth": 0,
            "ticks": ""
           }
          },
          "colorscale": {
           "diverging": [
            [
             0,
             "#8e0152"
            ],
            [
             0.1,
             "#c51b7d"
            ],
            [
             0.2,
             "#de77ae"
            ],
            [
             0.3,
             "#f1b6da"
            ],
            [
             0.4,
             "#fde0ef"
            ],
            [
             0.5,
             "#f7f7f7"
            ],
            [
             0.6,
             "#e6f5d0"
            ],
            [
             0.7,
             "#b8e186"
            ],
            [
             0.8,
             "#7fbc41"
            ],
            [
             0.9,
             "#4d9221"
            ],
            [
             1,
             "#276419"
            ]
           ],
           "sequential": [
            [
             0,
             "#0d0887"
            ],
            [
             0.1111111111111111,
             "#46039f"
            ],
            [
             0.2222222222222222,
             "#7201a8"
            ],
            [
             0.3333333333333333,
             "#9c179e"
            ],
            [
             0.4444444444444444,
             "#bd3786"
            ],
            [
             0.5555555555555556,
             "#d8576b"
            ],
            [
             0.6666666666666666,
             "#ed7953"
            ],
            [
             0.7777777777777778,
             "#fb9f3a"
            ],
            [
             0.8888888888888888,
             "#fdca26"
            ],
            [
             1,
             "#f0f921"
            ]
           ],
           "sequentialminus": [
            [
             0,
             "#0d0887"
            ],
            [
             0.1111111111111111,
             "#46039f"
            ],
            [
             0.2222222222222222,
             "#7201a8"
            ],
            [
             0.3333333333333333,
             "#9c179e"
            ],
            [
             0.4444444444444444,
             "#bd3786"
            ],
            [
             0.5555555555555556,
             "#d8576b"
            ],
            [
             0.6666666666666666,
             "#ed7953"
            ],
            [
             0.7777777777777778,
             "#fb9f3a"
            ],
            [
             0.8888888888888888,
             "#fdca26"
            ],
            [
             1,
             "#f0f921"
            ]
           ]
          },
          "colorway": [
           "#636efa",
           "#EF553B",
           "#00cc96",
           "#ab63fa",
           "#FFA15A",
           "#19d3f3",
           "#FF6692",
           "#B6E880",
           "#FF97FF",
           "#FECB52"
          ],
          "font": {
           "color": "#2a3f5f"
          },
          "geo": {
           "bgcolor": "white",
           "lakecolor": "white",
           "landcolor": "#E5ECF6",
           "showlakes": true,
           "showland": true,
           "subunitcolor": "white"
          },
          "hoverlabel": {
           "align": "left"
          },
          "hovermode": "closest",
          "mapbox": {
           "style": "light"
          },
          "paper_bgcolor": "white",
          "plot_bgcolor": "#E5ECF6",
          "polar": {
           "angularaxis": {
            "gridcolor": "white",
            "linecolor": "white",
            "ticks": ""
           },
           "bgcolor": "#E5ECF6",
           "radialaxis": {
            "gridcolor": "white",
            "linecolor": "white",
            "ticks": ""
           }
          },
          "scene": {
           "xaxis": {
            "backgroundcolor": "#E5ECF6",
            "gridcolor": "white",
            "gridwidth": 2,
            "linecolor": "white",
            "showbackground": true,
            "ticks": "",
            "zerolinecolor": "white"
           },
           "yaxis": {
            "backgroundcolor": "#E5ECF6",
            "gridcolor": "white",
            "gridwidth": 2,
            "linecolor": "white",
            "showbackground": true,
            "ticks": "",
            "zerolinecolor": "white"
           },
           "zaxis": {
            "backgroundcolor": "#E5ECF6",
            "gridcolor": "white",
            "gridwidth": 2,
            "linecolor": "white",
            "showbackground": true,
            "ticks": "",
            "zerolinecolor": "white"
           }
          },
          "shapedefaults": {
           "line": {
            "color": "#2a3f5f"
           }
          },
          "ternary": {
           "aaxis": {
            "gridcolor": "white",
            "linecolor": "white",
            "ticks": ""
           },
           "baxis": {
            "gridcolor": "white",
            "linecolor": "white",
            "ticks": ""
           },
           "bgcolor": "#E5ECF6",
           "caxis": {
            "gridcolor": "white",
            "linecolor": "white",
            "ticks": ""
           }
          },
          "title": {
           "x": 0.05
          },
          "xaxis": {
           "automargin": true,
           "gridcolor": "white",
           "linecolor": "white",
           "ticks": "",
           "title": {
            "standoff": 15
           },
           "zerolinecolor": "white",
           "zerolinewidth": 2
          },
          "yaxis": {
           "automargin": true,
           "gridcolor": "white",
           "linecolor": "white",
           "ticks": "",
           "title": {
            "standoff": 15
           },
           "zerolinecolor": "white",
           "zerolinewidth": 2
          }
         }
        },
        "title": {
         "text": "GTM Activity landscape"
        },
        "width": 600,
        "xaxis": {
         "title": {
          "text": "X1"
         }
        },
        "yaxis": {
         "title": {
          "text": "X2"
         }
        }
       }
      },
      "text/html": [
       "<div>\n",
       "        \n",
       "        \n",
       "            <div id=\"995f41cb-5894-4c1a-8ff0-c1506ac0c201\" class=\"plotly-graph-div\" style=\"height:600px; width:600px;\"></div>\n",
       "            <script type=\"text/javascript\">\n",
       "                require([\"plotly\"], function(Plotly) {\n",
       "                    window.PLOTLYENV=window.PLOTLYENV || {};\n",
       "                    \n",
       "                if (document.getElementById(\"995f41cb-5894-4c1a-8ff0-c1506ac0c201\")) {\n",
       "                    Plotly.newPlot(\n",
       "                        '995f41cb-5894-4c1a-8ff0-c1506ac0c201',\n",
       "                        [{\"colorbar\": {\"title\": {\"text\": \"logS\"}}, \"colorscale\": [[0.0, \"rgb(49,54,149)\"], [0.1, \"rgb(69,117,180)\"], [0.2, \"rgb(116,173,209)\"], [0.3, \"rgb(171,217,233)\"], [0.4, \"rgb(224,243,248)\"], [0.5, \"rgb(255,255,191)\"], [0.6, \"rgb(254,224,144)\"], [0.7, \"rgb(253,174,97)\"], [0.8, \"rgb(244,109,67)\"], [0.9, \"rgb(215,48,39)\"], [1.0, \"rgb(165,0,38)\"]], \"type\": \"heatmap\", \"x\": [-1.0, -1.0, -1.0, -1.0, -1.0, -1.0, -1.0, -1.0, -1.0, -1.0, -1.0, -1.0, -1.0, -1.0, -1.0, -1.0, -0.8666666666666667, -0.8666666666666667, -0.8666666666666667, -0.8666666666666667, -0.8666666666666667, -0.8666666666666667, -0.8666666666666667, -0.8666666666666667, -0.8666666666666667, -0.8666666666666667, -0.8666666666666667, -0.8666666666666667, -0.8666666666666667, -0.8666666666666667, -0.8666666666666667, -0.8666666666666667, -0.7333333333333334, -0.7333333333333334, -0.7333333333333334, -0.7333333333333334, -0.7333333333333334, -0.7333333333333334, -0.7333333333333334, -0.7333333333333334, -0.7333333333333334, -0.7333333333333334, -0.7333333333333334, -0.7333333333333334, -0.7333333333333334, -0.7333333333333334, -0.7333333333333334, -0.7333333333333334, -0.6, -0.6, -0.6, -0.6, -0.6, -0.6, -0.6, -0.6, -0.6, -0.6, -0.6, -0.6, -0.6, -0.6, -0.6, -0.6, -0.4666666666666667, -0.4666666666666667, -0.4666666666666667, -0.4666666666666667, -0.4666666666666667, -0.4666666666666667, -0.4666666666666667, -0.4666666666666667, -0.4666666666666667, -0.4666666666666667, -0.4666666666666667, -0.4666666666666667, -0.4666666666666667, -0.4666666666666667, -0.4666666666666667, -0.4666666666666667, -0.33333333333333337, -0.33333333333333337, -0.33333333333333337, -0.33333333333333337, -0.33333333333333337, -0.33333333333333337, -0.33333333333333337, -0.33333333333333337, -0.33333333333333337, -0.33333333333333337, -0.33333333333333337, -0.33333333333333337, -0.33333333333333337, -0.33333333333333337, -0.33333333333333337, -0.33333333333333337, -0.19999999999999996, -0.19999999999999996, -0.19999999999999996, -0.19999999999999996, -0.19999999999999996, -0.19999999999999996, -0.19999999999999996, -0.19999999999999996, -0.19999999999999996, -0.19999999999999996, -0.19999999999999996, -0.19999999999999996, -0.19999999999999996, -0.19999999999999996, -0.19999999999999996, -0.19999999999999996, -0.06666666666666665, -0.06666666666666665, -0.06666666666666665, -0.06666666666666665, -0.06666666666666665, -0.06666666666666665, -0.06666666666666665, -0.06666666666666665, -0.06666666666666665, -0.06666666666666665, -0.06666666666666665, -0.06666666666666665, -0.06666666666666665, -0.06666666666666665, -0.06666666666666665, -0.06666666666666665, 0.06666666666666665, 0.06666666666666665, 0.06666666666666665, 0.06666666666666665, 0.06666666666666665, 0.06666666666666665, 0.06666666666666665, 0.06666666666666665, 0.06666666666666665, 0.06666666666666665, 0.06666666666666665, 0.06666666666666665, 0.06666666666666665, 0.06666666666666665, 0.06666666666666665, 0.06666666666666665, 0.19999999999999996, 0.19999999999999996, 0.19999999999999996, 0.19999999999999996, 0.19999999999999996, 0.19999999999999996, 0.19999999999999996, 0.19999999999999996, 0.19999999999999996, 0.19999999999999996, 0.19999999999999996, 0.19999999999999996, 0.19999999999999996, 0.19999999999999996, 0.19999999999999996, 0.19999999999999996, 0.33333333333333326, 0.33333333333333326, 0.33333333333333326, 0.33333333333333326, 0.33333333333333326, 0.33333333333333326, 0.33333333333333326, 0.33333333333333326, 0.33333333333333326, 0.33333333333333326, 0.33333333333333326, 0.33333333333333326, 0.33333333333333326, 0.33333333333333326, 0.33333333333333326, 0.33333333333333326, 0.46666666666666656, 0.46666666666666656, 0.46666666666666656, 0.46666666666666656, 0.46666666666666656, 0.46666666666666656, 0.46666666666666656, 0.46666666666666656, 0.46666666666666656, 0.46666666666666656, 0.46666666666666656, 0.46666666666666656, 0.46666666666666656, 0.46666666666666656, 0.46666666666666656, 0.46666666666666656, 0.6000000000000001, 0.6000000000000001, 0.6000000000000001, 0.6000000000000001, 0.6000000000000001, 0.6000000000000001, 0.6000000000000001, 0.6000000000000001, 0.6000000000000001, 0.6000000000000001, 0.6000000000000001, 0.6000000000000001, 0.6000000000000001, 0.6000000000000001, 0.6000000000000001, 0.6000000000000001, 0.7333333333333334, 0.7333333333333334, 0.7333333333333334, 0.7333333333333334, 0.7333333333333334, 0.7333333333333334, 0.7333333333333334, 0.7333333333333334, 0.7333333333333334, 0.7333333333333334, 0.7333333333333334, 0.7333333333333334, 0.7333333333333334, 0.7333333333333334, 0.7333333333333334, 0.7333333333333334, 0.8666666666666667, 0.8666666666666667, 0.8666666666666667, 0.8666666666666667, 0.8666666666666667, 0.8666666666666667, 0.8666666666666667, 0.8666666666666667, 0.8666666666666667, 0.8666666666666667, 0.8666666666666667, 0.8666666666666667, 0.8666666666666667, 0.8666666666666667, 0.8666666666666667, 0.8666666666666667, 1.0, 1.0, 1.0, 1.0, 1.0, 1.0, 1.0, 1.0, 1.0, 1.0, 1.0, 1.0, 1.0, 1.0, 1.0, 1.0], \"y\": [-1.0, -0.8666666666666667, -0.7333333333333334, -0.6, -0.4666666666666667, -0.33333333333333337, -0.19999999999999996, -0.06666666666666665, 0.06666666666666665, 0.19999999999999996, 0.33333333333333326, 0.46666666666666656, 0.6000000000000001, 0.7333333333333334, 0.8666666666666667, 1.0, -1.0, -0.8666666666666667, -0.7333333333333334, -0.6, -0.4666666666666667, -0.33333333333333337, -0.19999999999999996, -0.06666666666666665, 0.06666666666666665, 0.19999999999999996, 0.33333333333333326, 0.46666666666666656, 0.6000000000000001, 0.7333333333333334, 0.8666666666666667, 1.0, -1.0, -0.8666666666666667, -0.7333333333333334, -0.6, -0.4666666666666667, -0.33333333333333337, -0.19999999999999996, -0.06666666666666665, 0.06666666666666665, 0.19999999999999996, 0.33333333333333326, 0.46666666666666656, 0.6000000000000001, 0.7333333333333334, 0.8666666666666667, 1.0, -1.0, -0.8666666666666667, -0.7333333333333334, -0.6, -0.4666666666666667, -0.33333333333333337, -0.19999999999999996, -0.06666666666666665, 0.06666666666666665, 0.19999999999999996, 0.33333333333333326, 0.46666666666666656, 0.6000000000000001, 0.7333333333333334, 0.8666666666666667, 1.0, -1.0, -0.8666666666666667, -0.7333333333333334, -0.6, -0.4666666666666667, -0.33333333333333337, -0.19999999999999996, -0.06666666666666665, 0.06666666666666665, 0.19999999999999996, 0.33333333333333326, 0.46666666666666656, 0.6000000000000001, 0.7333333333333334, 0.8666666666666667, 1.0, -1.0, -0.8666666666666667, -0.7333333333333334, -0.6, -0.4666666666666667, -0.33333333333333337, -0.19999999999999996, -0.06666666666666665, 0.06666666666666665, 0.19999999999999996, 0.33333333333333326, 0.46666666666666656, 0.6000000000000001, 0.7333333333333334, 0.8666666666666667, 1.0, -1.0, -0.8666666666666667, -0.7333333333333334, -0.6, -0.4666666666666667, -0.33333333333333337, -0.19999999999999996, -0.06666666666666665, 0.06666666666666665, 0.19999999999999996, 0.33333333333333326, 0.46666666666666656, 0.6000000000000001, 0.7333333333333334, 0.8666666666666667, 1.0, -1.0, -0.8666666666666667, -0.7333333333333334, -0.6, -0.4666666666666667, -0.33333333333333337, -0.19999999999999996, -0.06666666666666665, 0.06666666666666665, 0.19999999999999996, 0.33333333333333326, 0.46666666666666656, 0.6000000000000001, 0.7333333333333334, 0.8666666666666667, 1.0, -1.0, -0.8666666666666667, -0.7333333333333334, -0.6, -0.4666666666666667, -0.33333333333333337, -0.19999999999999996, -0.06666666666666665, 0.06666666666666665, 0.19999999999999996, 0.33333333333333326, 0.46666666666666656, 0.6000000000000001, 0.7333333333333334, 0.8666666666666667, 1.0, -1.0, -0.8666666666666667, -0.7333333333333334, -0.6, -0.4666666666666667, -0.33333333333333337, -0.19999999999999996, -0.06666666666666665, 0.06666666666666665, 0.19999999999999996, 0.33333333333333326, 0.46666666666666656, 0.6000000000000001, 0.7333333333333334, 0.8666666666666667, 1.0, -1.0, -0.8666666666666667, -0.7333333333333334, -0.6, -0.4666666666666667, -0.33333333333333337, -0.19999999999999996, -0.06666666666666665, 0.06666666666666665, 0.19999999999999996, 0.33333333333333326, 0.46666666666666656, 0.6000000000000001, 0.7333333333333334, 0.8666666666666667, 1.0, -1.0, -0.8666666666666667, -0.7333333333333334, -0.6, -0.4666666666666667, -0.33333333333333337, -0.19999999999999996, -0.06666666666666665, 0.06666666666666665, 0.19999999999999996, 0.33333333333333326, 0.46666666666666656, 0.6000000000000001, 0.7333333333333334, 0.8666666666666667, 1.0, -1.0, -0.8666666666666667, -0.7333333333333334, -0.6, -0.4666666666666667, -0.33333333333333337, -0.19999999999999996, -0.06666666666666665, 0.06666666666666665, 0.19999999999999996, 0.33333333333333326, 0.46666666666666656, 0.6000000000000001, 0.7333333333333334, 0.8666666666666667, 1.0, -1.0, -0.8666666666666667, -0.7333333333333334, -0.6, -0.4666666666666667, -0.33333333333333337, -0.19999999999999996, -0.06666666666666665, 0.06666666666666665, 0.19999999999999996, 0.33333333333333326, 0.46666666666666656, 0.6000000000000001, 0.7333333333333334, 0.8666666666666667, 1.0, -1.0, -0.8666666666666667, -0.7333333333333334, -0.6, -0.4666666666666667, -0.33333333333333337, -0.19999999999999996, -0.06666666666666665, 0.06666666666666665, 0.19999999999999996, 0.33333333333333326, 0.46666666666666656, 0.6000000000000001, 0.7333333333333334, 0.8666666666666667, 1.0, -1.0, -0.8666666666666667, -0.7333333333333334, -0.6, -0.4666666666666667, -0.33333333333333337, -0.19999999999999996, -0.06666666666666665, 0.06666666666666665, 0.19999999999999996, 0.33333333333333326, 0.46666666666666656, 0.6000000000000001, 0.7333333333333334, 0.8666666666666667, 1.0], \"z\": [-6.845525863796369, -5.7350785029708025, -5.3828345224468785, -4.6505590124572365, -4.0735304577196665, -3.8919594698460824, -4.242837001057323, -5.209254165039358, -5.8704703749347695, -4.951259073214683, -4.24006094630602, -4.2091881998609155, -4.799626242892393, -5.24245920184544, -4.837392580701968, -3.833885406235863, -5.801953708295241, -4.260622865871587, -4.242606449096391, -3.0005477259805104, -2.0878267682317118, -2.2407347464296814, -2.5513220359629307, -2.9556514141507777, -3.115938815967725, -3.0527843033538566, -2.5924334738079082, -2.086164557032704, -1.7168688245281594, -1.7311319703420522, -4.747613664241368, -2.4149541310971943, -4.4171310115752584, -3.6244427702847695, -2.40069184847034, -1.290490497922306, -0.874854929845152, -0.9117577095294712, -1.5157240402724643, -1.9520248103691522, -1.9398245506094258, -1.0455859226502195, -0.5073619249527836, -0.0508702070317804, 0.7490571037752614, 1.079133412161258, -0.6419988584378716, -0.9873008426045278, -4.988977257630073, -2.7522609355852876, -1.631673421897768, -1.4542684259289576, -1.325634814246033, -1.3154083924151425, -1.5484456503381319, -1.6325976897148597, -1.3588963797459634, -0.6900400344668717, -0.3988410061691441, -0.13153721770631172, -0.5042482624103135, 0.054171922256517444, 0.4666787860649956, -0.9775556465130144, -2.2687723308401746, -3.0516633617350926, -1.2304886444405478, -1.8135436160660636, -1.7882600468906797, -2.004750030345326, -2.0837051678787812, -1.8017547105838834, -1.6215244181599868, -0.9526061196448125, -0.4708300585623674, -0.29275954930383896, -0.5842683762335735, -0.7461035652911452, -0.7130371966241971, -0.8420706558747774, -4.175182354392373, -4.973443338453355, -2.0181913549251, -2.339886230214707, -2.06555020531531, -2.5893518623975362, -2.6041508232280832, -2.1775105416436107, -1.7194443947941986, -0.9492800031303623, -0.6507421653354041, -0.31851634818342306, -0.48450113238270726, -0.6512408300722208, 0.4502337377145631, -1.9093948526610658, -7.063492057032756, -3.1219628663762142, -5.294231736449983, -2.435869492305968, -2.5579716149158966, -3.2116542838055855, -3.1581232893682176, -2.737444380479114, -2.2980336342030667, -1.7040911005722956, -1.3677706106043002, -2.1846358736018234, -1.495450030981725, -1.1414822139871574, 0.15146510329074903, -2.4948381548697562, -3.0126352367572773, -3.0126352367572773, -3.0126352367572773, -6.126833692074249, -3.6868983223525285, -3.8243143534097555, -3.7019681858087394, -3.5713635818938583, -2.7481723467546977, -2.6126012254111615, -2.5010560996297446, -1.9284361831657784, -1.6481035327492541, -1.3050565631221722, -1.705751959270814, -2.121798723471342, -3.0126352367572773, -3.0126352367572773, -3.0126352367572773, -3.0126352371622644, -5.991011001045136, -4.630522265703724, -4.989254767303369, -5.184445085845916, -4.840678621627426, -3.503959546004824, -3.154595320774089, -2.5617963339913556, -2.1263319351702323, -1.4210024131494519, -1.6157406875898812, -2.436841620921132, -3.0126352367572773, -3.0126352367572773, -3.0126352367572773, -3.0126352367572773, -7.7354394249991465, -6.035858999121999, -5.34316207637824, -6.1773517608498, -5.780938947109096, -4.706608390724269, -3.9664911087062147, -3.3409109767544964, -2.5453383551044184, -1.1141457279363038, -0.5674136967647447, -2.550971875649425, -3.0126352367572773, -3.0126352367572773, -3.0126352367572773, -3.50668773639835, -6.678225537415597, -8.141645493353892, -7.22417242215737, -5.789473407791464, -5.944118751895278, -5.20617018652919, -5.1172073966000475, -4.213379214199093, -3.453999229006267, -2.0054989785679895, -0.8779579575556309, -2.866378640539565, -7.468064122018502, -9.703630952009124, -7.693828948921293, -6.906620027845879, -7.816409592909484, -7.413534013116421, -5.130227455463272, -4.554751166824929, -5.2745986829931, -5.774590899934496, -4.9939970080871845, -4.392926316508516, -3.785735783110003, -3.779379508612283, -2.7197790864654596, -4.388389911297281, -5.344493990563276, -6.479676245600005, -3.0126352367572773, -6.574510003195049, -7.079603813660366, -6.421701340540274, -4.429466919771852, -3.783187876883977, -4.530181630825307, -4.9062140740234454, -6.609184058095429, -4.871733012572879, -4.327668236971955, -4.3238832388718675, -4.511795099664524, -5.331591550778486, -3.0126352367572773, -3.0126352367572773, -9.049205467422192, -3.0126352367604787, -7.870583186157221, -5.634692330895456, -3.263886777734277, -2.774213891067444, -2.5415852295331134, -4.224855575758326, -3.356826342446526, -4.72789784416342, -3.8337766271552955, -4.17498805597669, -3.0163587093922417, -4.019964774005318, -3.0126352367572773, -3.0126352367572773, -3.0126352367572773, -0.7953706901055309, -7.288190637394327, -6.935485552525721, -3.0179634970996467, -2.4403459050670935, -3.733945486084367, -3.3672479412486576, -0.6611385222583922, -3.0072504846017374, -6.328277854157824, -4.758008013468244, -3.632260693559885, -3.0124503972699883, -6.729747104895681, -3.0126352367572773, -3.0126352367572773, -0.5904639393718619, -4.935725147103998, -6.538952311900494, -2.9232990497964875, -3.920112653170093, -4.586771771233757, -3.261625091400534, -2.7978794913463814, -3.012635237708248, -3.0126352367571356, -1.104094963318025, -3.0126352367572773, -3.0126352367572773]}],\n",
       "                        {\"height\": 600, \"template\": {\"data\": {\"bar\": [{\"error_x\": {\"color\": \"#2a3f5f\"}, \"error_y\": {\"color\": \"#2a3f5f\"}, \"marker\": {\"line\": {\"color\": \"#E5ECF6\", \"width\": 0.5}}, \"type\": \"bar\"}], \"barpolar\": [{\"marker\": {\"line\": {\"color\": \"#E5ECF6\", \"width\": 0.5}}, \"type\": \"barpolar\"}], \"carpet\": [{\"aaxis\": {\"endlinecolor\": \"#2a3f5f\", \"gridcolor\": \"white\", \"linecolor\": \"white\", \"minorgridcolor\": \"white\", \"startlinecolor\": \"#2a3f5f\"}, \"baxis\": {\"endlinecolor\": \"#2a3f5f\", \"gridcolor\": \"white\", \"linecolor\": \"white\", \"minorgridcolor\": \"white\", \"startlinecolor\": \"#2a3f5f\"}, \"type\": \"carpet\"}], \"choropleth\": [{\"colorbar\": {\"outlinewidth\": 0, \"ticks\": \"\"}, \"type\": \"choropleth\"}], \"contour\": [{\"colorbar\": {\"outlinewidth\": 0, \"ticks\": \"\"}, \"colorscale\": [[0.0, \"#0d0887\"], [0.1111111111111111, \"#46039f\"], [0.2222222222222222, \"#7201a8\"], [0.3333333333333333, \"#9c179e\"], [0.4444444444444444, \"#bd3786\"], [0.5555555555555556, \"#d8576b\"], [0.6666666666666666, \"#ed7953\"], [0.7777777777777778, \"#fb9f3a\"], [0.8888888888888888, \"#fdca26\"], [1.0, \"#f0f921\"]], \"type\": \"contour\"}], \"contourcarpet\": [{\"colorbar\": {\"outlinewidth\": 0, \"ticks\": \"\"}, \"type\": \"contourcarpet\"}], \"heatmap\": [{\"colorbar\": {\"outlinewidth\": 0, \"ticks\": \"\"}, \"colorscale\": [[0.0, \"#0d0887\"], [0.1111111111111111, \"#46039f\"], [0.2222222222222222, \"#7201a8\"], [0.3333333333333333, \"#9c179e\"], [0.4444444444444444, \"#bd3786\"], [0.5555555555555556, \"#d8576b\"], [0.6666666666666666, \"#ed7953\"], [0.7777777777777778, \"#fb9f3a\"], [0.8888888888888888, \"#fdca26\"], [1.0, \"#f0f921\"]], \"type\": \"heatmap\"}], \"heatmapgl\": [{\"colorbar\": {\"outlinewidth\": 0, \"ticks\": \"\"}, \"colorscale\": [[0.0, \"#0d0887\"], [0.1111111111111111, \"#46039f\"], [0.2222222222222222, \"#7201a8\"], [0.3333333333333333, \"#9c179e\"], [0.4444444444444444, \"#bd3786\"], [0.5555555555555556, \"#d8576b\"], [0.6666666666666666, \"#ed7953\"], [0.7777777777777778, \"#fb9f3a\"], [0.8888888888888888, \"#fdca26\"], [1.0, \"#f0f921\"]], \"type\": \"heatmapgl\"}], \"histogram\": [{\"marker\": {\"colorbar\": {\"outlinewidth\": 0, \"ticks\": \"\"}}, \"type\": \"histogram\"}], \"histogram2d\": [{\"colorbar\": {\"outlinewidth\": 0, \"ticks\": \"\"}, \"colorscale\": [[0.0, \"#0d0887\"], [0.1111111111111111, \"#46039f\"], [0.2222222222222222, \"#7201a8\"], [0.3333333333333333, \"#9c179e\"], [0.4444444444444444, \"#bd3786\"], [0.5555555555555556, \"#d8576b\"], [0.6666666666666666, \"#ed7953\"], [0.7777777777777778, \"#fb9f3a\"], [0.8888888888888888, \"#fdca26\"], [1.0, \"#f0f921\"]], \"type\": \"histogram2d\"}], \"histogram2dcontour\": [{\"colorbar\": {\"outlinewidth\": 0, \"ticks\": \"\"}, \"colorscale\": [[0.0, \"#0d0887\"], [0.1111111111111111, \"#46039f\"], [0.2222222222222222, \"#7201a8\"], [0.3333333333333333, \"#9c179e\"], [0.4444444444444444, \"#bd3786\"], [0.5555555555555556, \"#d8576b\"], [0.6666666666666666, \"#ed7953\"], [0.7777777777777778, \"#fb9f3a\"], [0.8888888888888888, \"#fdca26\"], [1.0, \"#f0f921\"]], \"type\": \"histogram2dcontour\"}], \"mesh3d\": [{\"colorbar\": {\"outlinewidth\": 0, \"ticks\": \"\"}, \"type\": \"mesh3d\"}], \"parcoords\": [{\"line\": {\"colorbar\": {\"outlinewidth\": 0, \"ticks\": \"\"}}, \"type\": \"parcoords\"}], \"pie\": [{\"automargin\": true, \"type\": \"pie\"}], \"scatter\": [{\"marker\": {\"colorbar\": {\"outlinewidth\": 0, \"ticks\": \"\"}}, \"type\": \"scatter\"}], \"scatter3d\": [{\"line\": {\"colorbar\": {\"outlinewidth\": 0, \"ticks\": \"\"}}, \"marker\": {\"colorbar\": {\"outlinewidth\": 0, \"ticks\": \"\"}}, \"type\": \"scatter3d\"}], \"scattercarpet\": [{\"marker\": {\"colorbar\": {\"outlinewidth\": 0, \"ticks\": \"\"}}, \"type\": \"scattercarpet\"}], \"scattergeo\": [{\"marker\": {\"colorbar\": {\"outlinewidth\": 0, \"ticks\": \"\"}}, \"type\": \"scattergeo\"}], \"scattergl\": [{\"marker\": {\"colorbar\": {\"outlinewidth\": 0, \"ticks\": \"\"}}, \"type\": \"scattergl\"}], \"scattermapbox\": [{\"marker\": {\"colorbar\": {\"outlinewidth\": 0, \"ticks\": \"\"}}, \"type\": \"scattermapbox\"}], \"scatterpolar\": [{\"marker\": {\"colorbar\": {\"outlinewidth\": 0, \"ticks\": \"\"}}, \"type\": \"scatterpolar\"}], \"scatterpolargl\": [{\"marker\": {\"colorbar\": {\"outlinewidth\": 0, \"ticks\": \"\"}}, \"type\": \"scatterpolargl\"}], \"scatterternary\": [{\"marker\": {\"colorbar\": {\"outlinewidth\": 0, \"ticks\": \"\"}}, \"type\": \"scatterternary\"}], \"surface\": [{\"colorbar\": {\"outlinewidth\": 0, \"ticks\": \"\"}, \"colorscale\": [[0.0, \"#0d0887\"], [0.1111111111111111, \"#46039f\"], [0.2222222222222222, \"#7201a8\"], [0.3333333333333333, \"#9c179e\"], [0.4444444444444444, \"#bd3786\"], [0.5555555555555556, \"#d8576b\"], [0.6666666666666666, \"#ed7953\"], [0.7777777777777778, \"#fb9f3a\"], [0.8888888888888888, \"#fdca26\"], [1.0, \"#f0f921\"]], \"type\": \"surface\"}], \"table\": [{\"cells\": {\"fill\": {\"color\": \"#EBF0F8\"}, \"line\": {\"color\": \"white\"}}, \"header\": {\"fill\": {\"color\": \"#C8D4E3\"}, \"line\": {\"color\": \"white\"}}, \"type\": \"table\"}]}, \"layout\": {\"annotationdefaults\": {\"arrowcolor\": \"#2a3f5f\", \"arrowhead\": 0, \"arrowwidth\": 1}, \"coloraxis\": {\"colorbar\": {\"outlinewidth\": 0, \"ticks\": \"\"}}, \"colorscale\": {\"diverging\": [[0, \"#8e0152\"], [0.1, \"#c51b7d\"], [0.2, \"#de77ae\"], [0.3, \"#f1b6da\"], [0.4, \"#fde0ef\"], [0.5, \"#f7f7f7\"], [0.6, \"#e6f5d0\"], [0.7, \"#b8e186\"], [0.8, \"#7fbc41\"], [0.9, \"#4d9221\"], [1, \"#276419\"]], \"sequential\": [[0.0, \"#0d0887\"], [0.1111111111111111, \"#46039f\"], [0.2222222222222222, \"#7201a8\"], [0.3333333333333333, \"#9c179e\"], [0.4444444444444444, \"#bd3786\"], [0.5555555555555556, \"#d8576b\"], [0.6666666666666666, \"#ed7953\"], [0.7777777777777778, \"#fb9f3a\"], [0.8888888888888888, \"#fdca26\"], [1.0, \"#f0f921\"]], \"sequentialminus\": [[0.0, \"#0d0887\"], [0.1111111111111111, \"#46039f\"], [0.2222222222222222, \"#7201a8\"], [0.3333333333333333, \"#9c179e\"], [0.4444444444444444, \"#bd3786\"], [0.5555555555555556, \"#d8576b\"], [0.6666666666666666, \"#ed7953\"], [0.7777777777777778, \"#fb9f3a\"], [0.8888888888888888, \"#fdca26\"], [1.0, \"#f0f921\"]]}, \"colorway\": [\"#636efa\", \"#EF553B\", \"#00cc96\", \"#ab63fa\", \"#FFA15A\", \"#19d3f3\", \"#FF6692\", \"#B6E880\", \"#FF97FF\", \"#FECB52\"], \"font\": {\"color\": \"#2a3f5f\"}, \"geo\": {\"bgcolor\": \"white\", \"lakecolor\": \"white\", \"landcolor\": \"#E5ECF6\", \"showlakes\": true, \"showland\": true, \"subunitcolor\": \"white\"}, \"hoverlabel\": {\"align\": \"left\"}, \"hovermode\": \"closest\", \"mapbox\": {\"style\": \"light\"}, \"paper_bgcolor\": \"white\", \"plot_bgcolor\": \"#E5ECF6\", \"polar\": {\"angularaxis\": {\"gridcolor\": \"white\", \"linecolor\": \"white\", \"ticks\": \"\"}, \"bgcolor\": \"#E5ECF6\", \"radialaxis\": {\"gridcolor\": \"white\", \"linecolor\": \"white\", \"ticks\": \"\"}}, \"scene\": {\"xaxis\": {\"backgroundcolor\": \"#E5ECF6\", \"gridcolor\": \"white\", \"gridwidth\": 2, \"linecolor\": \"white\", \"showbackground\": true, \"ticks\": \"\", \"zerolinecolor\": \"white\"}, \"yaxis\": {\"backgroundcolor\": \"#E5ECF6\", \"gridcolor\": \"white\", \"gridwidth\": 2, \"linecolor\": \"white\", \"showbackground\": true, \"ticks\": \"\", \"zerolinecolor\": \"white\"}, \"zaxis\": {\"backgroundcolor\": \"#E5ECF6\", \"gridcolor\": \"white\", \"gridwidth\": 2, \"linecolor\": \"white\", \"showbackground\": true, \"ticks\": \"\", \"zerolinecolor\": \"white\"}}, \"shapedefaults\": {\"line\": {\"color\": \"#2a3f5f\"}}, \"ternary\": {\"aaxis\": {\"gridcolor\": \"white\", \"linecolor\": \"white\", \"ticks\": \"\"}, \"baxis\": {\"gridcolor\": \"white\", \"linecolor\": \"white\", \"ticks\": \"\"}, \"bgcolor\": \"#E5ECF6\", \"caxis\": {\"gridcolor\": \"white\", \"linecolor\": \"white\", \"ticks\": \"\"}}, \"title\": {\"x\": 0.05}, \"xaxis\": {\"automargin\": true, \"gridcolor\": \"white\", \"linecolor\": \"white\", \"ticks\": \"\", \"title\": {\"standoff\": 15}, \"zerolinecolor\": \"white\", \"zerolinewidth\": 2}, \"yaxis\": {\"automargin\": true, \"gridcolor\": \"white\", \"linecolor\": \"white\", \"ticks\": \"\", \"title\": {\"standoff\": 15}, \"zerolinecolor\": \"white\", \"zerolinewidth\": 2}}}, \"title\": {\"text\": \"GTM Activity landscape\"}, \"width\": 600, \"xaxis\": {\"title\": {\"text\": \"X1\"}}, \"yaxis\": {\"title\": {\"text\": \"X2\"}}},\n",
       "                        {\"responsive\": true}\n",
       "                    ).then(function(){\n",
       "                            \n",
       "var gd = document.getElementById('995f41cb-5894-4c1a-8ff0-c1506ac0c201');\n",
       "var x = new MutationObserver(function (mutations, observer) {{\n",
       "        var display = window.getComputedStyle(gd).display;\n",
       "        if (!display || display === 'none') {{\n",
       "            console.log([gd, 'removed!']);\n",
       "            Plotly.purge(gd);\n",
       "            observer.disconnect();\n",
       "        }}\n",
       "}});\n",
       "\n",
       "// Listen for the removal of the full notebook cells\n",
       "var notebookContainer = gd.closest('#notebook-container');\n",
       "if (notebookContainer) {{\n",
       "    x.observe(notebookContainer, {childList: true});\n",
       "}}\n",
       "\n",
       "// Listen for the clearing of the current output cell\n",
       "var outputEl = gd.closest('.output');\n",
       "if (outputEl) {{\n",
       "    x.observe(outputEl, {childList: true});\n",
       "}}\n",
       "\n",
       "                        })\n",
       "                };\n",
       "                });\n",
       "            </script>\n",
       "        </div>"
      ]
     },
     "metadata": {},
     "output_type": "display_data"
    }
   ],
   "source": [
    "trace = [go.Heatmap(x=grid['X1'],y=grid['X2'],z=grid['logS'],colorscale='RdYlBu_r',colorbar=dict(title=\"logS\"))]\n",
    "\n",
    "layout = go.Layout(title='GTM Activity landscape',xaxis_title=\"X1\",yaxis_title=\"X2\",width=600,height=600)\n",
    "\n",
    "fig = go.Figure(data=trace,layout=layout)\n",
    "\n",
    "fig.show()"
   ]
  },
  {
   "cell_type": "code",
   "execution_count": 18,
   "metadata": {},
   "outputs": [],
   "source": [
    "# Let's test some other models\n",
    "# Multilinear regression\n",
    "# Lasso regression\n",
    "# Ridge regression\n",
    "# SVM Regression\n",
    "# Random Forest Regression\n",
    "# KNNeighbors regression"
   ]
  },
  {
   "cell_type": "code",
   "execution_count": 45,
   "metadata": {},
   "outputs": [],
   "source": [
    "# Multilinear regression\n",
    "from sklearn.linear_model import LinearRegression,Lasso,Ridge"
   ]
  },
  {
   "cell_type": "code",
   "execution_count": 39,
   "metadata": {},
   "outputs": [
    {
     "data": {
      "text/plain": [
       "LinearRegression(copy_X=True, fit_intercept=True, n_jobs=None, normalize=False)"
      ]
     },
     "execution_count": 39,
     "metadata": {},
     "output_type": "execute_result"
    }
   ],
   "source": [
    "Lreg = LinearRegression()\n",
    "Lreg.fit(X_train,y_train)"
   ]
  },
  {
   "cell_type": "code",
   "execution_count": 40,
   "metadata": {},
   "outputs": [],
   "source": [
    "y_pred = Lreg.predict(X_test)"
   ]
  },
  {
   "cell_type": "code",
   "execution_count": 41,
   "metadata": {},
   "outputs": [
    {
     "name": "stdout",
     "output_type": "stream",
     "text": [
      "0.557269642064081\n"
     ]
    }
   ],
   "source": [
    "print(r2_score(y_test,y_pred))"
   ]
  },
  {
   "cell_type": "code",
   "execution_count": 71,
   "metadata": {},
   "outputs": [],
   "source": [
    "# Temporarily inverting the transformations on the training and test sets\n",
    "X_train = stdsc.inverse_transform(X_train)\n",
    "X_test = stdsc.inverse_transform(X_test)"
   ]
  },
  {
   "cell_type": "code",
   "execution_count": 82,
   "metadata": {},
   "outputs": [],
   "source": [
    "# Ridge regression\n",
    "Ridge_alpha = list(range(100,1000,50))\n",
    "r2_scores = []\n",
    "for a in Ridge_alpha:\n",
    "    R = Ridge(alpha=a)\n",
    "    R.fit(X_train,y_train)\n",
    "    y_pred = R.predict(X_test)\n",
    "    r2 = r2_score(y_test,y_pred)\n",
    "    r2_scores.append(r2)"
   ]
  },
  {
   "cell_type": "code",
   "execution_count": 83,
   "metadata": {},
   "outputs": [
    {
     "data": {
      "text/plain": [
       "[<matplotlib.lines.Line2D at 0x127aa49d0>]"
      ]
     },
     "execution_count": 83,
     "metadata": {},
     "output_type": "execute_result"
    },
    {
     "data": {
      "image/png": "[encoded data removed]",
      "text/plain": [
       "<Figure size 432x288 with 1 Axes>"
      ]
     },
     "metadata": {
      "needs_background": "light"
     },
     "output_type": "display_data"
    }
   ],
   "source": [
    "plt.plot(Ridge_alpha,r2_scores)"
   ]
  },
  {
   "cell_type": "code",
   "execution_count": 93,
   "metadata": {},
   "outputs": [],
   "source": [
    "Lasso_alpha = [0.5,0.75,1,1.25,1.5]\n",
    "r2_scores = []\n",
    "for a in Lasso_alpha:\n",
    "    L = Lasso(alpha=a)\n",
    "    L.fit(X_train,y_train)\n",
    "    y_pred = L.predict(X_test)\n",
    "    r2 = r2_score(y_test,y_pred)\n",
    "    r2_scores.append(r2)"
   ]
  },
  {
   "cell_type": "code",
   "execution_count": 94,
   "metadata": {},
   "outputs": [
    {
     "data": {
      "text/plain": [
       "[<matplotlib.lines.Line2D at 0x1290f8d00>]"
      ]
     },
     "execution_count": 94,
     "metadata": {},
     "output_type": "execute_result"
    },
    {
     "data": {
      "image/png": "[encoded data removed]",
      "text/plain": [
       "<Figure size 432x288 with 1 Axes>"
      ]
     },
     "metadata": {
      "needs_background": "light"
     },
     "output_type": "display_data"
    }
   ],
   "source": [
    "plt.plot(Lasso_alpha,r2_scores)"
   ]
  },
  {
   "cell_type": "code",
   "execution_count": 95,
   "metadata": {},
   "outputs": [],
   "source": [
    "# SVM Regression\n",
    "from sklearn.svm import SVR"
   ]
  },
  {
   "cell_type": "code",
   "execution_count": 96,
   "metadata": {},
   "outputs": [],
   "source": [
    "# Transforming back to the normalized dataset\n",
    "X_train = stdsc.transform(X_train)\n",
    "X_test = stdsc.transform(X_test)"
   ]
  },
  {
   "cell_type": "code",
   "execution_count": 98,
   "metadata": {},
   "outputs": [],
   "source": [
    "listC = [1,10,100,1000]\n",
    "r2_scores = []\n",
    "for c in listC:\n",
    "    svr = SVR(kernel=\"rbf\",C=c)\n",
    "    svr.fit(X_train,y_train)\n",
    "    y_pred = svr.predict(X_test)\n",
    "    r2 = r2_score(y_test,y_pred)\n",
    "    r2_scores.append(r2)"
   ]
  },
  {
   "cell_type": "code",
   "execution_count": 99,
   "metadata": {},
   "outputs": [
    {
     "data": {
      "text/plain": [
       "[<matplotlib.lines.Line2D at 0x128b510d0>]"
      ]
     },
     "execution_count": 99,
     "metadata": {},
     "output_type": "execute_result"
    },
    {
     "data": {
      "image/png": "[encoded data removed]",
      "text/plain": [
       "<Figure size 432x288 with 1 Axes>"
      ]
     },
     "metadata": {
      "needs_background": "light"
     },
     "output_type": "display_data"
    }
   ],
   "source": [
    "plt.plot(listC,r2_scores)"
   ]
  },
  {
   "cell_type": "code",
   "execution_count": 12,
   "metadata": {},
   "outputs": [],
   "source": [
    "# Random Forest Regression\n",
    "from sklearn.ensemble import RandomForestRegressor"
   ]
  },
  {
   "cell_type": "code",
   "execution_count": 13,
   "metadata": {},
   "outputs": [],
   "source": [
    "rfr = RandomForestRegressor(n_estimators=500)"
   ]
  },
  {
   "cell_type": "code",
   "execution_count": 14,
   "metadata": {},
   "outputs": [],
   "source": [
    "# Inverting the transforms\n",
    "X_train = stdsc.inverse_transform(X_train)\n",
    "X_test = stdsc.inverse_transform(X_test)"
   ]
  },
  {
   "cell_type": "code",
   "execution_count": 15,
   "metadata": {},
   "outputs": [
    {
     "data": {
      "text/plain": [
       "RandomForestRegressor(bootstrap=True, ccp_alpha=0.0, criterion='mse',\n",
       "                      max_depth=None, max_features='auto', max_leaf_nodes=None,\n",
       "                      max_samples=None, min_impurity_decrease=0.0,\n",
       "                      min_impurity_split=None, min_samples_leaf=1,\n",
       "                      min_samples_split=2, min_weight_fraction_leaf=0.0,\n",
       "                      n_estimators=500, n_jobs=None, oob_score=False,\n",
       "                      random_state=None, verbose=0, warm_start=False)"
      ]
     },
     "execution_count": 15,
     "metadata": {},
     "output_type": "execute_result"
    }
   ],
   "source": [
    "rfr.fit(X_train,y_train)"
   ]
  },
  {
   "cell_type": "code",
   "execution_count": 17,
   "metadata": {},
   "outputs": [],
   "source": [
    "y_pred = rfr.predict(X_test)"
   ]
  },
  {
   "cell_type": "code",
   "execution_count": 19,
   "metadata": {},
   "outputs": [
    {
     "name": "stdout",
     "output_type": "stream",
     "text": [
      "0.7893448340455618\n"
     ]
    }
   ],
   "source": [
    "print(r2_score(y_test,y_pred))"
   ]
  },
  {
   "cell_type": "code",
   "execution_count": 20,
   "metadata": {},
   "outputs": [],
   "source": [
    "# KNN regression\n",
    "from sklearn.neighbors import KNeighborsRegressor"
   ]
  },
  {
   "cell_type": "code",
   "execution_count": 23,
   "metadata": {},
   "outputs": [],
   "source": [
    "listKNN = [1,2,3,4,5,6,7,8,9,10,12,14,16,18,20,22,24,26,28,30]\n",
    "r2_scores = []\n",
    "for NN in listKNN:\n",
    "    KNN = KNeighborsRegressor(n_neighbors=NN,weights=\"distance\")\n",
    "    KNN.fit(X_train,y_train)\n",
    "    y_pred = KNN.predict(X_test)\n",
    "    r2 = r2_score(y_test,y_pred)\n",
    "    r2_scores.append(r2)"
   ]
  },
  {
   "cell_type": "code",
   "execution_count": 37,
   "metadata": {},
   "outputs": [
    {
     "data": {
      "text/plain": [
       "<matplotlib.lines.Line2D at 0x1206f3580>"
      ]
     },
     "execution_count": 37,
     "metadata": {},
     "output_type": "execute_result"
    },
    {
     "data": {
      "image/png": "[encoded data removed]",
      "text/plain": [
       "<Figure size 432x288 with 1 Axes>"
      ]
     },
     "metadata": {
      "needs_background": "light"
     },
     "output_type": "display_data"
    }
   ],
   "source": [
    "plt.plot(listKNN,r2_scores)\n",
    "plt.axvline(listKNN[np.array(r2_scores).argmax()],color=\"k\")"
   ]
  },
  {
   "cell_type": "code",
   "execution_count": 33,
   "metadata": {},
   "outputs": [
    {
     "data": {
      "text/plain": [
       "10"
      ]
     },
     "execution_count": 33,
     "metadata": {},
     "output_type": "execute_result"
    }
   ],
   "source": [
    "# Now let's print all results together\n",
    "solubility_report = "
   ]
  },
  {
   "cell_type": "code",
   "execution_count": null,
   "metadata": {},
   "outputs": [],
   "source": []
  }
 ],
 "metadata": {
  "kernelspec": {
   "display_name": "Python 3",
   "language": "python",
   "name": "python3"
  }
 },
 "nbformat": 4,
 "nbformat_minor": 4
}
